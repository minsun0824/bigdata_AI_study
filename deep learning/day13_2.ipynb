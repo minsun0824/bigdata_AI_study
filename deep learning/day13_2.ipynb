{
 "cells": [
  {
   "cell_type": "markdown",
   "metadata": {},
   "source": [
    "# 스케줄링\n",
    "\n",
    "러닝 레이트가 너무 크면 왔다갔다하다가 학습이 안될 수 있음. \n",
    "\n",
    "맨 끝부분으로 갈수록 미세하게 조절해야 함"
   ]
  },
  {
   "cell_type": "code",
   "execution_count": 24,
   "metadata": {},
   "outputs": [],
   "source": [
    "%matplotlib inline\n",
    "import matplotlib.pyplot as plt\n",
    "import seaborn as sns\n",
    "import numpy as np\n",
    "import pandas as pd"
   ]
  },
  {
   "cell_type": "code",
   "execution_count": 25,
   "metadata": {},
   "outputs": [],
   "source": [
    "import tensorflow as tf"
   ]
  },
  {
   "cell_type": "code",
   "execution_count": 26,
   "metadata": {},
   "outputs": [],
   "source": [
    "from tensorflow import keras"
   ]
  },
  {
   "cell_type": "code",
   "execution_count": 27,
   "metadata": {},
   "outputs": [],
   "source": [
    "keras.backend.clear_session()\n",
    "np.random.seed(42)\n",
    "tf.random.set_seed(42)"
   ]
  },
  {
   "cell_type": "code",
   "execution_count": 28,
   "metadata": {},
   "outputs": [],
   "source": [
    "fashion_mnist = keras.datasets.fashion_mnist"
   ]
  },
  {
   "cell_type": "code",
   "execution_count": 29,
   "metadata": {},
   "outputs": [],
   "source": [
    "(X_train_full, y_train_full), (X_test, y_test) = fashion_mnist.load_data()"
   ]
  },
  {
   "cell_type": "code",
   "execution_count": 30,
   "metadata": {},
   "outputs": [
    {
     "data": {
      "text/plain": [
       "(60000, 28, 28)"
      ]
     },
     "execution_count": 30,
     "metadata": {},
     "output_type": "execute_result"
    }
   ],
   "source": [
    "X_train_full.shape"
   ]
  },
  {
   "cell_type": "code",
   "execution_count": 31,
   "metadata": {},
   "outputs": [
    {
     "data": {
      "text/plain": [
       "dtype('uint8')"
      ]
     },
     "execution_count": 31,
     "metadata": {},
     "output_type": "execute_result"
    }
   ],
   "source": [
    "X_train_full.dtype"
   ]
  },
  {
   "cell_type": "code",
   "execution_count": 32,
   "metadata": {},
   "outputs": [],
   "source": [
    "X_valid, X_train = X_train_full[:5000] / 255.0, X_train_full[5000:] / 255.0"
   ]
  },
  {
   "cell_type": "code",
   "execution_count": 33,
   "metadata": {},
   "outputs": [],
   "source": [
    "y_valid, y_train = y_train_full[:5000], y_train_full[5000:]"
   ]
  },
  {
   "cell_type": "code",
   "execution_count": 34,
   "metadata": {},
   "outputs": [],
   "source": [
    "X_test = X_test / 255.0"
   ]
  },
  {
   "cell_type": "code",
   "execution_count": 35,
   "metadata": {},
   "outputs": [],
   "source": [
    "pixel_means = X_train.mean(axis=0, keepdims=True)"
   ]
  },
  {
   "cell_type": "code",
   "execution_count": 36,
   "metadata": {},
   "outputs": [],
   "source": [
    "pixel_stds = X_train.std(axis=0, keepdims=True)"
   ]
  },
  {
   "cell_type": "code",
   "execution_count": 37,
   "metadata": {},
   "outputs": [],
   "source": [
    "X_train_scaled = (X_train - pixel_means) / pixel_stds"
   ]
  },
  {
   "cell_type": "code",
   "execution_count": 38,
   "metadata": {},
   "outputs": [],
   "source": [
    "X_valid_scaled = (X_valid - pixel_means) / pixel_stds"
   ]
  },
  {
   "cell_type": "code",
   "execution_count": 39,
   "metadata": {},
   "outputs": [],
   "source": [
    "X_test_scaled = (X_test - pixel_means) / pixel_stds"
   ]
  },
  {
   "cell_type": "code",
   "execution_count": 40,
   "metadata": {},
   "outputs": [],
   "source": [
    "# 학습률 스케쥴링"
   ]
  },
  {
   "cell_type": "code",
   "execution_count": 41,
   "metadata": {},
   "outputs": [],
   "source": [
    "optimizer = keras.optimizers.SGD(lr=0.01, decay=1e-4) # 1e-4 = 0.0001"
   ]
  },
  {
   "cell_type": "code",
   "execution_count": 43,
   "metadata": {},
   "outputs": [],
   "source": [
    "model = keras.models.Sequential([\n",
    "    keras.layers.Flatten(input_shape=[28, 28]),\n",
    "    keras.layers.Dense(300,activation='selu',kernel_initializer='lecun_normal'),\n",
    "    keras.layers.Dense(100,activation='selu',kernel_initializer='lecun_normal'),\n",
    "    keras.layers.Dense(10,activation='softmax')\n",
    "])"
   ]
  },
  {
   "cell_type": "code",
   "execution_count": 48,
   "metadata": {},
   "outputs": [],
   "source": [
    "model.compile(loss='sparse_categorical_crossentropy',optimizer=optimizer,metrics=['accuracy'])"
   ]
  },
  {
   "cell_type": "code",
   "execution_count": 49,
   "metadata": {
    "scrolled": true
   },
   "outputs": [
    {
     "name": "stdout",
     "output_type": "stream",
     "text": [
      "Train on 55000 samples, validate on 5000 samples\n",
      "Epoch 1/25\n",
      "55000/55000 [==============================] - 3s 55us/sample - loss: 0.4868 - accuracy: 0.8294 - val_loss: 0.4128 - val_accuracy: 0.8556\n",
      "Epoch 2/25\n",
      "55000/55000 [==============================] - 3s 54us/sample - loss: 0.3812 - accuracy: 0.8644 - val_loss: 0.3787 - val_accuracy: 0.8714\n",
      "Epoch 3/25\n",
      "55000/55000 [==============================] - 3s 55us/sample - loss: 0.3493 - accuracy: 0.8754 - val_loss: 0.3729 - val_accuracy: 0.8720\n",
      "Epoch 4/25\n",
      "55000/55000 [==============================] - 3s 55us/sample - loss: 0.3287 - accuracy: 0.8831 - val_loss: 0.3576 - val_accuracy: 0.8724\n",
      "Epoch 5/25\n",
      "55000/55000 [==============================] - 3s 55us/sample - loss: 0.3126 - accuracy: 0.8894 - val_loss: 0.3482 - val_accuracy: 0.8750\n",
      "Epoch 6/25\n",
      "55000/55000 [==============================] - 3s 49us/sample - loss: 0.3003 - accuracy: 0.8936 - val_loss: 0.3476 - val_accuracy: 0.8776\n",
      "Epoch 7/25\n",
      "55000/55000 [==============================] - 3s 49us/sample - loss: 0.2893 - accuracy: 0.8976 - val_loss: 0.3420 - val_accuracy: 0.8792\n",
      "Epoch 8/25\n",
      "55000/55000 [==============================] - 3s 49us/sample - loss: 0.2806 - accuracy: 0.8999 - val_loss: 0.3384 - val_accuracy: 0.8810\n",
      "Epoch 9/25\n",
      "55000/55000 [==============================] - 3s 49us/sample - loss: 0.2725 - accuracy: 0.9029 - val_loss: 0.3338 - val_accuracy: 0.8854\n",
      "Epoch 10/25\n",
      "55000/55000 [==============================] - 3s 54us/sample - loss: 0.2654 - accuracy: 0.9061 - val_loss: 0.3396 - val_accuracy: 0.8792\n",
      "Epoch 11/25\n",
      "55000/55000 [==============================] - 3s 54us/sample - loss: 0.2592 - accuracy: 0.9083 - val_loss: 0.3310 - val_accuracy: 0.8834\n",
      "Epoch 12/25\n",
      "55000/55000 [==============================] - 3s 54us/sample - loss: 0.2535 - accuracy: 0.9098 - val_loss: 0.3301 - val_accuracy: 0.8852\n",
      "Epoch 13/25\n",
      "55000/55000 [==============================] - 3s 49us/sample - loss: 0.2482 - accuracy: 0.9123 - val_loss: 0.3301 - val_accuracy: 0.8870\n",
      "Epoch 14/25\n",
      "55000/55000 [==============================] - 3s 50us/sample - loss: 0.2437 - accuracy: 0.9139 - val_loss: 0.3307 - val_accuracy: 0.8852\n",
      "Epoch 15/25\n",
      "55000/55000 [==============================] - 3s 49us/sample - loss: 0.2392 - accuracy: 0.9164 - val_loss: 0.3265 - val_accuracy: 0.8864\n",
      "Epoch 16/25\n",
      "55000/55000 [==============================] - 3s 49us/sample - loss: 0.2348 - accuracy: 0.9176 - val_loss: 0.3277 - val_accuracy: 0.8846\n",
      "Epoch 17/25\n",
      "55000/55000 [==============================] - 3s 49us/sample - loss: 0.2313 - accuracy: 0.9191 - val_loss: 0.3241 - val_accuracy: 0.8874\n",
      "Epoch 18/25\n",
      "55000/55000 [==============================] - 3s 49us/sample - loss: 0.2274 - accuracy: 0.9202 - val_loss: 0.3260 - val_accuracy: 0.8862\n",
      "Epoch 19/25\n",
      "55000/55000 [==============================] - 3s 49us/sample - loss: 0.2240 - accuracy: 0.9213 - val_loss: 0.3266 - val_accuracy: 0.8862\n",
      "Epoch 20/25\n",
      "55000/55000 [==============================] - 3s 49us/sample - loss: 0.2207 - accuracy: 0.9233 - val_loss: 0.3250 - val_accuracy: 0.8860\n",
      "Epoch 21/25\n",
      "55000/55000 [==============================] - 3s 49us/sample - loss: 0.2179 - accuracy: 0.9234 - val_loss: 0.3227 - val_accuracy: 0.8878\n",
      "Epoch 22/25\n",
      "55000/55000 [==============================] - 3s 49us/sample - loss: 0.2148 - accuracy: 0.9254 - val_loss: 0.3242 - val_accuracy: 0.8868\n",
      "Epoch 23/25\n",
      "55000/55000 [==============================] - 3s 49us/sample - loss: 0.2122 - accuracy: 0.9259 - val_loss: 0.3230 - val_accuracy: 0.8872\n",
      "Epoch 24/25\n",
      "55000/55000 [==============================] - 3s 49us/sample - loss: 0.2093 - accuracy: 0.9279 - val_loss: 0.3243 - val_accuracy: 0.8876\n",
      "Epoch 25/25\n",
      "55000/55000 [==============================] - 3s 49us/sample - loss: 0.2072 - accuracy: 0.9291 - val_loss: 0.3225 - val_accuracy: 0.8882\n",
      "Wall time: 1min 9s\n"
     ]
    }
   ],
   "source": [
    "%%time\n",
    "n_epochs = 25\n",
    "hist = model.fit(X_train_scaled, y_train, epochs=n_epochs, validation_data=(X_valid_scaled,y_valid))"
   ]
  },
  {
   "cell_type": "markdown",
   "metadata": {},
   "source": [
    "## 시각화"
   ]
  },
  {
   "cell_type": "code",
   "execution_count": 57,
   "metadata": {},
   "outputs": [
    {
     "name": "stdout",
     "output_type": "stream",
     "text": [
      "[0.01       0.00853388 0.00744269 0.00659892 0.00592698 0.00537924\n",
      " 0.00492417 0.00454009 0.00421159 0.00392742 0.00367918 0.00346045\n",
      " 0.00326627 0.00309272 0.00293669 0.00279564 0.00266752 0.00255063\n",
      " 0.00244355 0.00234511 0.00225428 0.00217023 0.00209223 0.00201963\n",
      " 0.00195191]\n"
     ]
    }
   ],
   "source": [
    "learning_rate=0.01\n",
    "decay=1e-4\n",
    "batch_size=32\n",
    "n_steps_per_epoch = len(X_train)//batch_size\n",
    "epochs=np.arange(n_epochs) #n_epochs=25\n",
    "lrs=learning_rate/(1+decay*epochs*n_steps_per_epoch)\n",
    "print(lrs) #줄어드는 속도가 점점 느려짐"
   ]
  },
  {
   "cell_type": "code",
   "execution_count": 64,
   "metadata": {},
   "outputs": [
    {
     "data": {
      "image/png": "[encoded data removed]",
      "text/plain": [
       "<Figure size 432x288 with 1 Axes>"
      ]
     },
     "metadata": {
      "needs_background": "light"
     },
     "output_type": "display_data"
    }
   ],
   "source": [
    "plt.plot(epochs, lrs, \"o-\") #점선으로 연결\n",
    "plt.axis([0,n_epochs-1, 0, 0.01])\n",
    "#대충 추세를 보면 40쯔음에는 0에 근접할 듯\n",
    "plt.xlabel('Epoch')\n",
    "plt.ylabel('Learing Rate')\n",
    "plt.title('Power Scheduling', fontsize=14)\n",
    "plt.grid(True)\n",
    "plt.show()"
   ]
  },
  {
   "cell_type": "code",
   "execution_count": 65,
   "metadata": {},
   "outputs": [],
   "source": [
    "#지수 기반 스케줄링\n",
    "def exponential_decay_fn(epoch):\n",
    "    return 0.01*0.1**(epoch/20)"
   ]
  },
  {
   "cell_type": "code",
   "execution_count": 66,
   "metadata": {},
   "outputs": [],
   "source": [
    "#lr=lr0*0.1**(epoch/s)\n",
    "def exponential_decay(lr0, s):\n",
    "    def exponential_decay_fn(epoch):\n",
    "        return lr0 * 0.01**(epoch/s)\n",
    "    return exponential_decay_fn"
   ]
  },
  {
   "cell_type": "code",
   "execution_count": 67,
   "metadata": {},
   "outputs": [],
   "source": [
    "exponential_decay_fn = exponential_decay(lr0 = 0.01, s = 20)\n",
    "model=keras.models."
   ]
  },
  {
   "cell_type": "code",
   "execution_count": 72,
   "metadata": {},
   "outputs": [],
   "source": [
    "model = keras.models.Sequential([\n",
    "    keras.layers.Flatten(input_shape=[28, 28]),\n",
    "    keras.layers.Dense(300, activation='selu', kernel_initializer='lecun_normal'),\n",
    "    keras.layers.Dense(100, activation='selu', kernel_initializer='lecun_normal'),\n",
    "    keras.layers.Dense(10, activation='softmax')\n",
    "])\n",
    "model.compile(loss=\"sparse_categorical_crossentropy\", optimizer=\"nadam\",\n",
    "              metrics=['accuracy'])\n",
    "n_epochs = 25"
   ]
  },
  {
   "cell_type": "code",
   "execution_count": 73,
   "metadata": {},
   "outputs": [],
   "source": [
    "lr_scheduler = keras.callbacks.LearningRateScheduler(exponential_decay_fn)"
   ]
  },
  {
   "cell_type": "code",
   "execution_count": 74,
   "metadata": {},
   "outputs": [
    {
     "name": "stdout",
     "output_type": "stream",
     "text": [
      "Train on 55000 samples, validate on 5000 samples\n",
      "Epoch 1/25\n",
      "55000/55000 [==============================] - 7s 134us/sample - loss: 0.8394 - accuracy: 0.7597 - val_loss: 1.1178 - val_accuracy: 0.7452\n",
      "Epoch 2/25\n",
      "55000/55000 [==============================] - 6s 113us/sample - loss: 0.6101 - accuracy: 0.8122 - val_loss: 0.8437 - val_accuracy: 0.8100\n",
      "Epoch 3/25\n",
      "55000/55000 [==============================] - 6s 112us/sample - loss: 0.5282 - accuracy: 0.8330 - val_loss: 0.5207 - val_accuracy: 0.8288\n",
      "Epoch 4/25\n",
      "55000/55000 [==============================] - 6s 114us/sample - loss: 0.4310 - accuracy: 0.8583 - val_loss: 0.5398 - val_accuracy: 0.8462\n",
      "Epoch 5/25\n",
      "55000/55000 [==============================] - 6s 112us/sample - loss: 0.3786 - accuracy: 0.8738 - val_loss: 0.4385 - val_accuracy: 0.8702\n",
      "Epoch 6/25\n",
      "55000/55000 [==============================] - 6s 114us/sample - loss: 0.3413 - accuracy: 0.8839 - val_loss: 0.4583 - val_accuracy: 0.8698\n",
      "Epoch 7/25\n",
      "55000/55000 [==============================] - 7s 121us/sample - loss: 0.2995 - accuracy: 0.8972 - val_loss: 0.3821 - val_accuracy: 0.8796\n",
      "Epoch 8/25\n",
      "55000/55000 [==============================] - 6s 113us/sample - loss: 0.2694 - accuracy: 0.9054 - val_loss: 0.3939 - val_accuracy: 0.8710\n",
      "Epoch 9/25\n",
      "55000/55000 [==============================] - 6s 114us/sample - loss: 0.2419 - accuracy: 0.9133 - val_loss: 0.3930 - val_accuracy: 0.8910\n",
      "Epoch 10/25\n",
      "55000/55000 [==============================] - 6s 116us/sample - loss: 0.2189 - accuracy: 0.9230 - val_loss: 0.3861 - val_accuracy: 0.8864\n",
      "Epoch 11/25\n",
      "55000/55000 [==============================] - 6s 113us/sample - loss: 0.1985 - accuracy: 0.9293 - val_loss: 0.3863 - val_accuracy: 0.8886\n",
      "Epoch 12/25\n",
      "55000/55000 [==============================] - 6s 114us/sample - loss: 0.1830 - accuracy: 0.9347 - val_loss: 0.3964 - val_accuracy: 0.8930\n",
      "Epoch 13/25\n",
      "55000/55000 [==============================] - 6s 113us/sample - loss: 0.1654 - accuracy: 0.9416 - val_loss: 0.4041 - val_accuracy: 0.8944\n",
      "Epoch 14/25\n",
      "55000/55000 [==============================] - 6s 114us/sample - loss: 0.1518 - accuracy: 0.9463 - val_loss: 0.4329 - val_accuracy: 0.8920\n",
      "Epoch 15/25\n",
      "55000/55000 [==============================] - 6s 113us/sample - loss: 0.1421 - accuracy: 0.9510 - val_loss: 0.4363 - val_accuracy: 0.8918\n",
      "Epoch 16/25\n",
      "55000/55000 [==============================] - 7s 119us/sample - loss: 0.1322 - accuracy: 0.9545 - val_loss: 0.4456 - val_accuracy: 0.8902\n",
      "Epoch 17/25\n",
      "55000/55000 [==============================] - 6s 117us/sample - loss: 0.1250 - accuracy: 0.9577 - val_loss: 0.4460 - val_accuracy: 0.8948\n",
      "Epoch 18/25\n",
      "55000/55000 [==============================] - 6s 116us/sample - loss: 0.1176 - accuracy: 0.9599 - val_loss: 0.4580 - val_accuracy: 0.8928\n",
      "Epoch 19/25\n",
      "55000/55000 [==============================] - 6s 117us/sample - loss: 0.1131 - accuracy: 0.9625 - val_loss: 0.4684 - val_accuracy: 0.8948\n",
      "Epoch 20/25\n",
      "55000/55000 [==============================] - 6s 116us/sample - loss: 0.1086 - accuracy: 0.9642 - val_loss: 0.4725 - val_accuracy: 0.8944\n",
      "Epoch 21/25\n",
      "55000/55000 [==============================] - 6s 117us/sample - loss: 0.1053 - accuracy: 0.9653 - val_loss: 0.4851 - val_accuracy: 0.8944\n",
      "Epoch 22/25\n",
      "55000/55000 [==============================] - 6s 116us/sample - loss: 0.1025 - accuracy: 0.9663 - val_loss: 0.4893 - val_accuracy: 0.8932\n",
      "Epoch 23/25\n",
      "55000/55000 [==============================] - 6s 115us/sample - loss: 0.1004 - accuracy: 0.9675 - val_loss: 0.4973 - val_accuracy: 0.8936\n",
      "Epoch 24/25\n",
      "55000/55000 [==============================] - 6s 117us/sample - loss: 0.0986 - accuracy: 0.9681 - val_loss: 0.5007 - val_accuracy: 0.8944\n",
      "Epoch 25/25\n",
      "55000/55000 [==============================] - 6s 116us/sample - loss: 0.0973 - accuracy: 0.9688 - val_loss: 0.5045 - val_accuracy: 0.8954\n",
      "Wall time: 2min 39s\n"
     ]
    }
   ],
   "source": [
    "%%time\n",
    "hist = model.fit(X_train_scaled, y_train, epochs=n_epochs,\n",
    "                 validation_data=(X_valid_scaled, y_valid),\n",
    "                callbacks=[lr_scheduler])"
   ]
  },
  {
   "cell_type": "code",
   "execution_count": 75,
   "metadata": {},
   "outputs": [
    {
     "data": {
      "image/png": "[encoded data removed]",
      "text/plain": [
       "<Figure size 432x288 with 1 Axes>"
      ]
     },
     "metadata": {
      "needs_background": "light"
     },
     "output_type": "display_data"
    }
   ],
   "source": [
    "plt.plot(hist.epoch, hist.history[\"lr\"], \"o-\")\n",
    "plt.axis([0, n_epochs-1, 0, 0.011])\n",
    "plt.xlabel(\"Epoch\")\n",
    "plt.ylabel(\"Learning Rate\")\n",
    "plt.title(\"Exponential Scheduling\", fontsize=14)\n",
    "plt.grid(True)\n",
    "plt.show()"
   ]
  },
  {
   "cell_type": "code",
   "execution_count": null,
   "metadata": {},
   "outputs": [],
   "source": []
  },
  {
   "cell_type": "code",
   "execution_count": null,
   "metadata": {},
   "outputs": [],
   "source": []
  },
  {
   "cell_type": "code",
   "execution_count": null,
   "metadata": {},
   "outputs": [],
   "source": []
  },
  {
   "cell_type": "code",
   "execution_count": null,
   "metadata": {},
   "outputs": [],
   "source": []
  },
  {
   "cell_type": "code",
   "execution_count": null,
   "metadata": {},
   "outputs": [],
   "source": []
  },
  {
   "cell_type": "code",
   "execution_count": null,
   "metadata": {},
   "outputs": [],
   "source": []
  },
  {
   "cell_type": "code",
   "execution_count": null,
   "metadata": {},
   "outputs": [],
   "source": []
  }
 ],
 "metadata": {
  "kernelspec": {
   "display_name": "Python 3",
   "language": "python",
   "name": "python3"
  },
  "language_info": {
   "codemirror_mode": {
    "name": "ipython",
    "version": 3
   },
   "file_extension": ".py",
   "mimetype": "text/x-python",
   "name": "python",
   "nbconvert_exporter": "python",
   "pygments_lexer": "ipython3",
   "version": "3.7.0"
  }
 },
 "nbformat": 4,
 "nbformat_minor": 2
}
