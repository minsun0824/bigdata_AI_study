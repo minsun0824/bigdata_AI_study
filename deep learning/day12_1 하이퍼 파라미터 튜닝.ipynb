{
 "cells": [
  {
   "cell_type": "code",
   "execution_count": 1,
   "metadata": {},
   "outputs": [],
   "source": [
    "# hyper_parameter tunning"
   ]
  },
  {
   "cell_type": "code",
   "execution_count": 2,
   "metadata": {},
   "outputs": [],
   "source": [
    "%matplotlib inline\n",
    "import matplotlib.pyplot as plt\n",
    "import seaborn as sns\n",
    "import numpy as np\n",
    "import pandas as pd"
   ]
  },
  {
   "cell_type": "code",
   "execution_count": 3,
   "metadata": {},
   "outputs": [],
   "source": [
    "import tensorflow as tf"
   ]
  },
  {
   "cell_type": "code",
   "execution_count": 4,
   "metadata": {},
   "outputs": [],
   "source": [
    "from tensorflow import keras"
   ]
  },
  {
   "cell_type": "code",
   "execution_count": 5,
   "metadata": {},
   "outputs": [],
   "source": [
    "keras.backend.clear_session()\n",
    "np.random.seed(42)\n",
    "tf.random.set_seed(42)"
   ]
  },
  {
   "cell_type": "code",
   "execution_count": 6,
   "metadata": {},
   "outputs": [],
   "source": [
    "from sklearn.datasets import fetch_california_housing"
   ]
  },
  {
   "cell_type": "code",
   "execution_count": 7,
   "metadata": {},
   "outputs": [],
   "source": [
    "from sklearn.model_selection import train_test_split"
   ]
  },
  {
   "cell_type": "code",
   "execution_count": 8,
   "metadata": {},
   "outputs": [],
   "source": [
    "from sklearn.preprocessing import StandardScaler"
   ]
  },
  {
   "cell_type": "code",
   "execution_count": 9,
   "metadata": {},
   "outputs": [],
   "source": [
    "housing = fetch_california_housing()"
   ]
  },
  {
   "cell_type": "code",
   "execution_count": 10,
   "metadata": {},
   "outputs": [],
   "source": [
    "X_train_full, X_test, y_train_full, y_test = train_test_split(\n",
    "    housing.data, housing.target, random_state=42)"
   ]
  },
  {
   "cell_type": "code",
   "execution_count": 11,
   "metadata": {},
   "outputs": [],
   "source": [
    "X_train, X_valid, y_train, y_valid = train_test_split(\n",
    "    X_train_full, y_train_full, random_state=42)"
   ]
  },
  {
   "cell_type": "code",
   "execution_count": 12,
   "metadata": {},
   "outputs": [],
   "source": [
    "class_names = [\"T-shit/top\", \"Trouser\", \"Pullover\", \"Dress\", \"Coat\",\n",
    "              \"Sandal\", \"Shirt\", \"Sneaker\", \"Bag\", \"Ankle boot\"]"
   ]
  },
  {
   "cell_type": "code",
   "execution_count": 13,
   "metadata": {},
   "outputs": [],
   "source": [
    "scaler = StandardScaler()"
   ]
  },
  {
   "cell_type": "code",
   "execution_count": 14,
   "metadata": {},
   "outputs": [],
   "source": [
    "X_train = scaler.fit_transform(X_train)"
   ]
  },
  {
   "cell_type": "code",
   "execution_count": 15,
   "metadata": {},
   "outputs": [],
   "source": [
    "X_valid = scaler.transform(X_valid)"
   ]
  },
  {
   "cell_type": "code",
   "execution_count": 16,
   "metadata": {},
   "outputs": [],
   "source": [
    "X_test = scaler.transform(X_test)"
   ]
  },
  {
   "cell_type": "code",
   "execution_count": 17,
   "metadata": {},
   "outputs": [],
   "source": [
    "keras.backend.clear_session()\n",
    "np.random.seed(42)\n",
    "tf.random.set_seed(42)"
   ]
  },
  {
   "cell_type": "code",
   "execution_count": 18,
   "metadata": {},
   "outputs": [],
   "source": [
    "def build_model(n_hidden=1, n_neurons=30, learning_rate=3e-3, input_shape=[8]):\n",
    "    model = keras.models.Sequential()\n",
    "    model.add(keras.layers.InputLayer(input_shape=input_shape))\n",
    "    for layer in range(n_hidden):\n",
    "        model.add(keras.layers.Dense(n_neurons, activation='relu'))\n",
    "    model.add(keras.layers.Dense(1))\n",
    "    optimizer = keras.optimizers.SGD(lr=learning_rate)\n",
    "    model.compile(loss='mse', optimizer=optimizer)\n",
    "    return model"
   ]
  },
  {
   "cell_type": "code",
   "execution_count": 19,
   "metadata": {},
   "outputs": [],
   "source": [
    "keras_reg = keras.wrappers.scikit_learn.KerasRegressor(build_model)"
   ]
  },
  {
   "cell_type": "code",
   "execution_count": 41,
   "metadata": {},
   "outputs": [
    {
     "name": "stdout",
     "output_type": "stream",
     "text": [
      "Train on 11610 samples, validate on 3870 samples\n",
      "Epoch 1/100\n",
      "11610/11610 [==============================] - 1s 49us/sample - loss: 1.0950 - val_loss: 6.8181\n",
      "Epoch 2/100\n",
      "11610/11610 [==============================] - 0s 25us/sample - loss: 0.6794 - val_loss: 6.6763\n",
      "Epoch 3/100\n",
      "11610/11610 [==============================] - 0s 27us/sample - loss: 0.5748 - val_loss: 1.7621\n",
      "Epoch 4/100\n",
      "11610/11610 [==============================] - 0s 25us/sample - loss: 0.5017 - val_loss: 0.7749\n",
      "Epoch 5/100\n",
      "11610/11610 [==============================] - 0s 25us/sample - loss: 0.4634 - val_loss: 0.4330\n",
      "Epoch 6/100\n",
      "11610/11610 [==============================] - 0s 25us/sample - loss: 0.4455 - val_loss: 0.4966\n",
      "Epoch 7/100\n",
      "11610/11610 [==============================] - 0s 25us/sample - loss: 0.4327 - val_loss: 0.4115\n",
      "Epoch 8/100\n",
      "11610/11610 [==============================] - 0s 25us/sample - loss: 0.4242 - val_loss: 0.3952\n",
      "Epoch 9/100\n",
      "11610/11610 [==============================] - 0s 25us/sample - loss: 0.4175 - val_loss: 0.4599\n",
      "Epoch 10/100\n",
      "11610/11610 [==============================] - 0s 24us/sample - loss: 0.4128 - val_loss: 0.3837\n",
      "Epoch 11/100\n",
      "11610/11610 [==============================] - 0s 26us/sample - loss: 0.4079 - val_loss: 0.3786\n",
      "Epoch 12/100\n",
      "11610/11610 [==============================] - 0s 24us/sample - loss: 0.4047 - val_loss: 0.3817\n",
      "Epoch 13/100\n",
      "11610/11610 [==============================] - 0s 24us/sample - loss: 0.4017 - val_loss: 0.3736\n",
      "Epoch 14/100\n",
      "11610/11610 [==============================] - 0s 26us/sample - loss: 0.3999 - val_loss: 0.3876\n",
      "Epoch 15/100\n",
      "11610/11610 [==============================] - 0s 25us/sample - loss: 0.3961 - val_loss: 0.6389\n",
      "Epoch 16/100\n",
      "11610/11610 [==============================] - 0s 25us/sample - loss: 0.3973 - val_loss: 0.8012\n",
      "Epoch 17/100\n",
      "11610/11610 [==============================] - 0s 26us/sample - loss: 0.3945 - val_loss: 0.4737\n",
      "Epoch 18/100\n",
      "11610/11610 [==============================] - 0s 26us/sample - loss: 0.3917 - val_loss: 0.3624\n",
      "Epoch 19/100\n",
      "11610/11610 [==============================] - 0s 26us/sample - loss: 0.3894 - val_loss: 0.3710\n",
      "Epoch 20/100\n",
      "11610/11610 [==============================] - 0s 25us/sample - loss: 0.3882 - val_loss: 0.5127\n",
      "Epoch 21/100\n",
      "11610/11610 [==============================] - 0s 26us/sample - loss: 0.3876 - val_loss: 0.4882\n",
      "Epoch 22/100\n",
      "11610/11610 [==============================] - 0s 25us/sample - loss: 0.3845 - val_loss: 0.7822\n",
      "Epoch 23/100\n",
      "11610/11610 [==============================] - 0s 24us/sample - loss: 0.3871 - val_loss: 0.8502\n",
      "Epoch 24/100\n",
      "11610/11610 [==============================] - 0s 24us/sample - loss: 0.3839 - val_loss: 0.5213\n",
      "Epoch 25/100\n",
      "11610/11610 [==============================] - 0s 24us/sample - loss: 0.3828 - val_loss: 0.5568\n",
      "Epoch 26/100\n",
      "11610/11610 [==============================] - 0s 24us/sample - loss: 0.3806 - val_loss: 0.5277\n",
      "Epoch 27/100\n",
      "11610/11610 [==============================] - 0s 24us/sample - loss: 0.3797 - val_loss: 0.3591\n",
      "Epoch 28/100\n",
      "11610/11610 [==============================] - 0s 24us/sample - loss: 0.3776 - val_loss: 0.3550\n",
      "Epoch 29/100\n",
      "11610/11610 [==============================] - 0s 25us/sample - loss: 0.3753 - val_loss: 0.5990\n",
      "Epoch 30/100\n",
      "11610/11610 [==============================] - 0s 26us/sample - loss: 0.3774 - val_loss: 0.3719\n",
      "Epoch 31/100\n",
      "11610/11610 [==============================] - 0s 26us/sample - loss: 0.3738 - val_loss: 0.3550\n",
      "Epoch 32/100\n",
      "11610/11610 [==============================] - 0s 25us/sample - loss: 0.3735 - val_loss: 0.3816\n",
      "Epoch 33/100\n",
      "11610/11610 [==============================] - 0s 25us/sample - loss: 0.3718 - val_loss: 0.5982\n",
      "Epoch 34/100\n",
      "11610/11610 [==============================] - 0s 25us/sample - loss: 0.3758 - val_loss: 1.0643\n",
      "Epoch 35/100\n",
      "11610/11610 [==============================] - 0s 26us/sample - loss: 0.3730 - val_loss: 1.4818\n",
      "Epoch 36/100\n",
      "11610/11610 [==============================] - 0s 25us/sample - loss: 0.3753 - val_loss: 2.2413\n",
      "Epoch 37/100\n",
      "11610/11610 [==============================] - 0s 26us/sample - loss: 0.3795 - val_loss: 3.7238\n",
      "Epoch 38/100\n",
      "11610/11610 [==============================] - 0s 25us/sample - loss: 0.3966 - val_loss: 3.9777\n",
      "Wall time: 11.5 s\n"
     ]
    },
    {
     "data": {
      "text/plain": [
       "<tensorflow.python.keras.callbacks.History at 0x25c9e1304a8>"
      ]
     },
     "execution_count": 41,
     "metadata": {},
     "output_type": "execute_result"
    }
   ],
   "source": [
    "%%time\n",
    "keras_reg.fit(X_train, y_train, epochs=100,\n",
    "             validation_data=(X_valid, y_valid),\n",
    "             callbacks=[keras.callbacks.EarlyStopping(patience=10)])"
   ]
  },
  {
   "cell_type": "code",
   "execution_count": 42,
   "metadata": {},
   "outputs": [
    {
     "name": "stdout",
     "output_type": "stream",
     "text": [
      "5160/5160 [==============================] - 0s 12us/sample - loss: 0.3817\n"
     ]
    }
   ],
   "source": [
    "mse_test = keras_reg.score(X_test, y_test)"
   ]
  },
  {
   "cell_type": "code",
   "execution_count": 43,
   "metadata": {},
   "outputs": [],
   "source": [
    "X_new = X_test[:3]"
   ]
  },
  {
   "cell_type": "code",
   "execution_count": 44,
   "metadata": {},
   "outputs": [],
   "source": [
    "y_pred = keras_reg.predict(X_new)"
   ]
  },
  {
   "cell_type": "code",
   "execution_count": 45,
   "metadata": {},
   "outputs": [
    {
     "data": {
      "text/plain": [
       "array([0.8282322, 1.6953583, 3.8334901], dtype=float32)"
      ]
     },
     "execution_count": 45,
     "metadata": {},
     "output_type": "execute_result"
    }
   ],
   "source": [
    "y_pred"
   ]
  },
  {
   "cell_type": "code",
   "execution_count": 46,
   "metadata": {},
   "outputs": [],
   "source": [
    "from scipy.stats import reciprocal"
   ]
  },
  {
   "cell_type": "code",
   "execution_count": 47,
   "metadata": {},
   "outputs": [],
   "source": [
    "from sklearn.model_selection import RandomizedSearchCV"
   ]
  },
  {
   "cell_type": "code",
   "execution_count": 48,
   "metadata": {},
   "outputs": [],
   "source": [
    "# param_distribs = {\n",
    "#     \"n_hidden\": [0, 1, 2, 3],\n",
    "#     \"n_neurons\": np.arange(1, 100),\n",
    "#     \"learning_rate\": reciprocal(3e-4, 3e-2)\n",
    "# } 이게 원문인데 속도를 빨리하기위해서 설정"
   ]
  },
  {
   "cell_type": "code",
   "execution_count": 49,
   "metadata": {},
   "outputs": [],
   "source": [
    "param_distribs = {\n",
    "    \"n_hidden\": [1, 2, 3],\n",
    "    \"n_neurons\": np.arange(40, 45),\n",
    "    \"learning_rate\": reciprocal(3e-4, 3e-2)\n",
    "}"
   ]
  },
  {
   "cell_type": "code",
   "execution_count": 50,
   "metadata": {},
   "outputs": [],
   "source": [
    "rnd_search_cv = RandomizedSearchCV(keras_reg, param_distribs, n_iter=10, cv=3, verbose=2)"
   ]
  },
  {
   "cell_type": "code",
   "execution_count": 51,
   "metadata": {},
   "outputs": [],
   "source": [
    "# %%time\n",
    "# rnd_search_cv.fit(X_train, y_train, epochs=100, validation_data=(X_valid, y_valid),\n",
    "#                  callbacks=[keras.callbacks.EarlyStopping(patience=10)])"
   ]
  },
  {
   "cell_type": "code",
   "execution_count": 52,
   "metadata": {},
   "outputs": [
    {
     "data": {
      "text/plain": [
       "'0.23.2'"
      ]
     },
     "execution_count": 52,
     "metadata": {},
     "output_type": "execute_result"
    }
   ],
   "source": [
    "import sklearn\n",
    "sklearn.__version__"
   ]
  },
  {
   "cell_type": "code",
   "execution_count": 53,
   "metadata": {},
   "outputs": [
    {
     "name": "stdout",
     "output_type": "stream",
     "text": [
      "Fitting 3 folds for each of 10 candidates, totalling 30 fits\n",
      "[CV] learning_rate=0.010650914574384917, n_hidden=2, n_neurons=41 ....\n",
      "Train on 7740 samples, validate on 3870 samples\n",
      "Epoch 1/10\n"
     ]
    },
    {
     "name": "stderr",
     "output_type": "stream",
     "text": [
      "[Parallel(n_jobs=1)]: Using backend SequentialBackend with 1 concurrent workers.\n"
     ]
    },
    {
     "name": "stdout",
     "output_type": "stream",
     "text": [
      "7740/7740 [==============================] - 1s 65us/sample - loss: 0.8466 - val_loss: 0.5212\n",
      "Epoch 2/10\n",
      "7740/7740 [==============================] - 0s 31us/sample - loss: 0.4803 - val_loss: 5.1555\n",
      "Epoch 3/10\n",
      "7740/7740 [==============================] - 0s 30us/sample - loss: 0.5053 - val_loss: 5.1294\n",
      "3870/3870 [==============================] - 0s 13us/sample - loss: 0.4299\n",
      "[CV]  learning_rate=0.010650914574384917, n_hidden=2, n_neurons=41, total=   1.1s\n",
      "[CV] learning_rate=0.010650914574384917, n_hidden=2, n_neurons=41 ....\n",
      "Train on 7740 samples, validate on 3870 samples\n",
      "Epoch 1/10\n"
     ]
    },
    {
     "name": "stderr",
     "output_type": "stream",
     "text": [
      "[Parallel(n_jobs=1)]: Done   1 out of   1 | elapsed:    1.0s remaining:    0.0s\n"
     ]
    },
    {
     "name": "stdout",
     "output_type": "stream",
     "text": [
      "7740/7740 [==============================] - 1s 67us/sample - loss: 0.7795 - val_loss: 0.4920\n",
      "Epoch 2/10\n",
      "7740/7740 [==============================] - 0s 30us/sample - loss: 0.4388 - val_loss: 0.3877\n",
      "Epoch 3/10\n",
      "7740/7740 [==============================] - 0s 29us/sample - loss: 0.4080 - val_loss: 0.8254\n",
      "Epoch 4/10\n",
      "7740/7740 [==============================] - 0s 29us/sample - loss: 0.3893 - val_loss: 1.0787\n",
      "3870/3870 [==============================] - 0s 13us/sample - loss: 0.4266\n",
      "[CV]  learning_rate=0.010650914574384917, n_hidden=2, n_neurons=41, total=   1.4s\n",
      "[CV] learning_rate=0.010650914574384917, n_hidden=2, n_neurons=41 ....\n",
      "Train on 7740 samples, validate on 3870 samples\n",
      "Epoch 1/10\n",
      "7740/7740 [==============================] - 1s 65us/sample - loss: 0.8765 - val_loss: 2.1839\n",
      "Epoch 2/10\n",
      "7740/7740 [==============================] - 0s 30us/sample - loss: 0.4716 - val_loss: 2.1967\n",
      "Epoch 3/10\n",
      "7740/7740 [==============================] - 0s 32us/sample - loss: 0.4859 - val_loss: 4.3488\n",
      "3870/3870 [==============================] - 0s 14us/sample - loss: 0.4023\n",
      "[CV]  learning_rate=0.010650914574384917, n_hidden=2, n_neurons=41, total=   1.1s\n",
      "[CV] learning_rate=0.01848314861814289, n_hidden=2, n_neurons=43 .....\n",
      "Train on 7740 samples, validate on 3870 samples\n",
      "Epoch 1/10\n",
      "7740/7740 [==============================] - 1s 100us/sample - loss: 0.7618 - val_loss: 6.6477\n",
      "Epoch 2/10\n",
      "7740/7740 [==============================] - 0s 29us/sample - loss: 0.5017 - val_loss: 6.1506\n",
      "Epoch 3/10\n",
      "7740/7740 [==============================] - 0s 32us/sample - loss: 0.4717 - val_loss: 10.5552\n",
      "Epoch 4/10\n",
      "7740/7740 [==============================] - 0s 29us/sample - loss: 0.4896 - val_loss: 0.4464\n",
      "Epoch 5/10\n",
      "7740/7740 [==============================] - 0s 30us/sample - loss: 0.4106 - val_loss: 2.2702\n",
      "Epoch 6/10\n",
      "7740/7740 [==============================] - 0s 29us/sample - loss: 0.3869 - val_loss: 0.4347\n",
      "Epoch 7/10\n",
      "7740/7740 [==============================] - 0s 30us/sample - loss: 0.3555 - val_loss: 0.3619\n",
      "Epoch 8/10\n",
      "7740/7740 [==============================] - 0s 30us/sample - loss: 0.3494 - val_loss: 0.3321\n",
      "Epoch 9/10\n",
      "7740/7740 [==============================] - 0s 30us/sample - loss: 0.3516 - val_loss: 0.3548\n",
      "Epoch 10/10\n",
      "7740/7740 [==============================] - 0s 30us/sample - loss: 0.3451 - val_loss: 0.3325\n",
      "3870/3870 [==============================] - 0s 13us/sample - loss: 0.3693\n",
      "[CV]  learning_rate=0.01848314861814289, n_hidden=2, n_neurons=43, total=   3.0s\n",
      "[CV] learning_rate=0.01848314861814289, n_hidden=2, n_neurons=43 .....\n",
      "Train on 7740 samples, validate on 3870 samples\n",
      "Epoch 1/10\n",
      "7740/7740 [==============================] - 0s 62us/sample - loss: 0.6290 - val_loss: 0.4354\n",
      "Epoch 2/10\n",
      "7740/7740 [==============================] - 0s 28us/sample - loss: 0.4146 - val_loss: 0.3729\n",
      "Epoch 3/10\n",
      "7740/7740 [==============================] - 0s 28us/sample - loss: 0.3916 - val_loss: 1.5902\n",
      "Epoch 4/10\n",
      "7740/7740 [==============================] - 0s 28us/sample - loss: 0.3685 - val_loss: 0.5200\n",
      "3870/3870 [==============================] - 0s 12us/sample - loss: 0.4235\n",
      "[CV]  learning_rate=0.01848314861814289, n_hidden=2, n_neurons=43, total=   1.3s\n",
      "[CV] learning_rate=0.01848314861814289, n_hidden=2, n_neurons=43 .....\n",
      "Train on 7740 samples, validate on 3870 samples\n",
      "Epoch 1/10\n",
      "7740/7740 [==============================] - 0s 62us/sample - loss: 0.8187 - val_loss: 0.4455\n",
      "Epoch 2/10\n",
      "7740/7740 [==============================] - 0s 28us/sample - loss: 0.4321 - val_loss: 0.3701\n",
      "Epoch 3/10\n",
      "7740/7740 [==============================] - 0s 28us/sample - loss: 0.4094 - val_loss: 0.6692\n",
      "Epoch 4/10\n",
      "7740/7740 [==============================] - 0s 29us/sample - loss: 0.4061 - val_loss: 1.7834\n",
      "3870/3870 [==============================] - 0s 13us/sample - loss: 0.3822\n",
      "[CV]  learning_rate=0.01848314861814289, n_hidden=2, n_neurons=43, total=   1.3s\n",
      "[CV] learning_rate=0.0003694671517099805, n_hidden=1, n_neurons=44 ...\n",
      "Train on 7740 samples, validate on 3870 samples\n",
      "Epoch 1/10\n",
      "7740/7740 [==============================] - 0s 60us/sample - loss: 4.6928 - val_loss: 3.0636\n",
      "Epoch 2/10\n",
      "7740/7740 [==============================] - 0s 27us/sample - loss: 2.4088 - val_loss: 2.4288\n",
      "Epoch 3/10\n",
      "7740/7740 [==============================] - 0s 28us/sample - loss: 1.5744 - val_loss: 1.9534\n",
      "Epoch 4/10\n",
      "7740/7740 [==============================] - 0s 27us/sample - loss: 1.1622 - val_loss: 1.4003\n",
      "Epoch 5/10\n",
      "7740/7740 [==============================] - 0s 27us/sample - loss: 0.9389 - val_loss: 0.9937\n",
      "Epoch 6/10\n",
      "7740/7740 [==============================] - 0s 28us/sample - loss: 0.8133 - val_loss: 0.8056\n",
      "Epoch 7/10\n",
      "7740/7740 [==============================] - 0s 27us/sample - loss: 0.7414 - val_loss: 0.7189\n",
      "Epoch 8/10\n",
      "7740/7740 [==============================] - 0s 27us/sample - loss: 0.6983 - val_loss: 0.6799\n",
      "Epoch 9/10\n",
      "7740/7740 [==============================] - 0s 28us/sample - loss: 0.6705 - val_loss: 0.6552\n",
      "Epoch 10/10\n",
      "7740/7740 [==============================] - 0s 27us/sample - loss: 0.6510 - val_loss: 0.6372\n",
      "3870/3870 [==============================] - 0s 12us/sample - loss: 0.6386\n",
      "[CV]  learning_rate=0.0003694671517099805, n_hidden=1, n_neurons=44, total=   2.5s\n",
      "[CV] learning_rate=0.0003694671517099805, n_hidden=1, n_neurons=44 ...\n",
      "Train on 7740 samples, validate on 3870 samples\n",
      "Epoch 1/10\n",
      "7740/7740 [==============================] - 0s 57us/sample - loss: 4.9478 - val_loss: 3.8339\n",
      "Epoch 2/10\n",
      "7740/7740 [==============================] - 0s 27us/sample - loss: 2.2342 - val_loss: 6.7234\n",
      "Epoch 3/10\n",
      "7740/7740 [==============================] - 0s 28us/sample - loss: 1.3315 - val_loss: 8.8216\n",
      "3870/3870 [==============================] - 0s 13us/sample - loss: 1.2809\n",
      "[CV]  learning_rate=0.0003694671517099805, n_hidden=1, n_neurons=44, total=   1.0s\n",
      "[CV] learning_rate=0.0003694671517099805, n_hidden=1, n_neurons=44 ...\n",
      "Train on 7740 samples, validate on 3870 samples\n",
      "Epoch 1/10\n",
      "7740/7740 [==============================] - 1s 75us/sample - loss: 3.2609 - val_loss: 6.0232\n",
      "Epoch 2/10\n",
      "7740/7740 [==============================] - 0s 28us/sample - loss: 1.6436 - val_loss: 3.1830\n",
      "Epoch 3/10\n",
      "7740/7740 [==============================] - 0s 28us/sample - loss: 1.1082 - val_loss: 1.7316\n",
      "Epoch 4/10\n",
      "7740/7740 [==============================] - 0s 28us/sample - loss: 0.9217 - val_loss: 1.0564\n",
      "Epoch 5/10\n",
      "7740/7740 [==============================] - 0s 28us/sample - loss: 0.8463 - val_loss: 0.8511\n",
      "Epoch 6/10\n",
      "7740/7740 [==============================] - 0s 28us/sample - loss: 0.8076 - val_loss: 0.7964\n",
      "Epoch 7/10\n",
      "7740/7740 [==============================] - 0s 29us/sample - loss: 0.7815 - val_loss: 0.7837\n",
      "Epoch 8/10\n",
      "7740/7740 [==============================] - 0s 28us/sample - loss: 0.7608 - val_loss: 0.7747\n",
      "Epoch 9/10\n",
      "7740/7740 [==============================] - 0s 28us/sample - loss: 0.7426 - val_loss: 0.7705\n",
      "Epoch 10/10\n",
      "7740/7740 [==============================] - 0s 28us/sample - loss: 0.7264 - val_loss: 0.7574\n",
      "3870/3870 [==============================] - 0s 12us/sample - loss: 0.7271\n",
      "[CV]  learning_rate=0.0003694671517099805, n_hidden=1, n_neurons=44, total=   2.7s\n",
      "[CV] learning_rate=0.0010466929964671095, n_hidden=1, n_neurons=41 ...\n",
      "Train on 7740 samples, validate on 3870 samples\n",
      "Epoch 1/10\n",
      "7740/7740 [==============================] - 0s 57us/sample - loss: 2.8683 - val_loss: 5.5219\n",
      "Epoch 2/10\n",
      "7740/7740 [==============================] - 0s 28us/sample - loss: 0.9275 - val_loss: 0.7848\n",
      "Epoch 3/10\n",
      "7740/7740 [==============================] - 0s 27us/sample - loss: 0.7063 - val_loss: 0.6332\n",
      "Epoch 4/10\n",
      "7740/7740 [==============================] - 0s 28us/sample - loss: 0.6521 - val_loss: 0.6155\n",
      "Epoch 5/10\n",
      "7740/7740 [==============================] - 0s 28us/sample - loss: 0.6207 - val_loss: 0.5800\n",
      "Epoch 6/10\n",
      "7740/7740 [==============================] - 0s 28us/sample - loss: 0.5956 - val_loss: 0.5579\n",
      "Epoch 7/10\n",
      "7740/7740 [==============================] - 0s 28us/sample - loss: 0.5735 - val_loss: 0.5641\n",
      "Epoch 8/10\n",
      "7740/7740 [==============================] - 0s 27us/sample - loss: 0.5544 - val_loss: 0.5186\n",
      "Epoch 9/10\n",
      "7740/7740 [==============================] - 0s 27us/sample - loss: 0.5368 - val_loss: 0.5009\n",
      "Epoch 10/10\n"
     ]
    },
    {
     "name": "stdout",
     "output_type": "stream",
     "text": [
      "7740/7740 [==============================] - 0s 28us/sample - loss: 0.5208 - val_loss: 0.4909\n",
      "3870/3870 [==============================] - 0s 13us/sample - loss: 0.5187\n",
      "[CV]  learning_rate=0.0010466929964671095, n_hidden=1, n_neurons=41, total=   2.5s\n",
      "[CV] learning_rate=0.0010466929964671095, n_hidden=1, n_neurons=41 ...\n",
      "Train on 7740 samples, validate on 3870 samples\n",
      "Epoch 1/10\n",
      "7740/7740 [==============================] - 0s 56us/sample - loss: 2.3471 - val_loss: 7.2693\n",
      "Epoch 2/10\n",
      "7740/7740 [==============================] - 0s 27us/sample - loss: 1.0115 - val_loss: 3.7503\n",
      "Epoch 3/10\n",
      "7740/7740 [==============================] - 0s 27us/sample - loss: 0.8258 - val_loss: 1.5519\n",
      "Epoch 4/10\n",
      "7740/7740 [==============================] - 0s 28us/sample - loss: 0.7622 - val_loss: 0.7889\n",
      "Epoch 5/10\n",
      "7740/7740 [==============================] - 0s 28us/sample - loss: 0.7229 - val_loss: 0.7609\n",
      "Epoch 6/10\n",
      "7740/7740 [==============================] - 0s 28us/sample - loss: 0.6909 - val_loss: 1.1157\n",
      "Epoch 7/10\n",
      "7740/7740 [==============================] - 0s 28us/sample - loss: 0.6627 - val_loss: 1.7313\n",
      "3870/3870 [==============================] - 0s 12us/sample - loss: 0.6943\n",
      "[CV]  learning_rate=0.0010466929964671095, n_hidden=1, n_neurons=41, total=   1.8s\n",
      "[CV] learning_rate=0.0010466929964671095, n_hidden=1, n_neurons=41 ...\n",
      "Train on 7740 samples, validate on 3870 samples\n",
      "Epoch 1/10\n",
      "7740/7740 [==============================] - 0s 56us/sample - loss: 2.9075 - val_loss: 1.5052\n",
      "Epoch 2/10\n",
      "7740/7740 [==============================] - 0s 28us/sample - loss: 0.9420 - val_loss: 0.8969\n",
      "Epoch 3/10\n",
      "7740/7740 [==============================] - 0s 27us/sample - loss: 0.7133 - val_loss: 0.6605\n",
      "Epoch 4/10\n",
      "7740/7740 [==============================] - 0s 28us/sample - loss: 0.6579 - val_loss: 0.6069\n",
      "Epoch 5/10\n",
      "7740/7740 [==============================] - 0s 28us/sample - loss: 0.6267 - val_loss: 0.6650\n",
      "Epoch 6/10\n",
      "7740/7740 [==============================] - 0s 27us/sample - loss: 0.6050 - val_loss: 0.5767\n",
      "Epoch 7/10\n",
      "7740/7740 [==============================] - 0s 26us/sample - loss: 0.5831 - val_loss: 0.5692\n",
      "Epoch 8/10\n",
      "7740/7740 [==============================] - 0s 26us/sample - loss: 0.5647 - val_loss: 0.5518\n",
      "Epoch 9/10\n",
      "7740/7740 [==============================] - 0s 26us/sample - loss: 0.5484 - val_loss: 0.5636\n",
      "Epoch 10/10\n",
      "7740/7740 [==============================] - 0s 26us/sample - loss: 0.5344 - val_loss: 0.5187\n",
      "3870/3870 [==============================] - 0s 12us/sample - loss: 0.5390\n",
      "[CV]  learning_rate=0.0010466929964671095, n_hidden=1, n_neurons=41, total=   2.4s\n",
      "[CV] learning_rate=0.0255641801441508, n_hidden=1, n_neurons=40 ......\n",
      "Train on 7740 samples, validate on 3870 samples\n",
      "Epoch 1/10\n",
      "7740/7740 [==============================] - 0s 57us/sample - loss: 0.9770 - val_loss: 0.4882\n",
      "Epoch 2/10\n",
      "7740/7740 [==============================] - 0s 27us/sample - loss: 0.7716 - val_loss: 144.8196\n",
      "Epoch 3/10\n",
      "7740/7740 [==============================] - 0s 28us/sample - loss: 1.7190 - val_loss: 0.6762\n",
      "3870/3870 [==============================] - 0s 12us/sample - loss: 0.4308\n",
      "[CV]  learning_rate=0.0255641801441508, n_hidden=1, n_neurons=40, total=   1.0s\n",
      "[CV] learning_rate=0.0255641801441508, n_hidden=1, n_neurons=40 ......\n",
      "Train on 7740 samples, validate on 3870 samples\n",
      "Epoch 1/10\n",
      "7740/7740 [==============================] - 0s 56us/sample - loss: 0.6828 - val_loss: 0.6229\n",
      "Epoch 2/10\n",
      "7740/7740 [==============================] - 0s 27us/sample - loss: 0.4890 - val_loss: 0.7677\n",
      "Epoch 3/10\n",
      "7740/7740 [==============================] - 0s 27us/sample - loss: 0.4252 - val_loss: 1.3754\n",
      "3870/3870 [==============================] - 0s 12us/sample - loss: 0.4337\n",
      "[CV]  learning_rate=0.0255641801441508, n_hidden=1, n_neurons=40, total=   1.0s\n",
      "[CV] learning_rate=0.0255641801441508, n_hidden=1, n_neurons=40 ......\n",
      "Train on 7740 samples, validate on 3870 samples\n",
      "Epoch 1/10\n",
      "7740/7740 [==============================] - 1s 74us/sample - loss: 0.7420 - val_loss: 3.3349\n",
      "Epoch 2/10\n",
      "7740/7740 [==============================] - 0s 27us/sample - loss: 0.5749 - val_loss: 2.0071\n",
      "Epoch 3/10\n",
      "7740/7740 [==============================] - 0s 26us/sample - loss: 0.4364 - val_loss: 0.3738\n",
      "Epoch 4/10\n",
      "7740/7740 [==============================] - 0s 26us/sample - loss: 0.4044 - val_loss: 0.3861\n",
      "Epoch 5/10\n",
      "7740/7740 [==============================] - 0s 26us/sample - loss: 0.3987 - val_loss: 0.3826\n",
      "3870/3870 [==============================] - 0s 12us/sample - loss: 0.3818\n",
      "[CV]  learning_rate=0.0255641801441508, n_hidden=1, n_neurons=40, total=   1.5s\n",
      "[CV] learning_rate=0.0011740004574313117, n_hidden=1, n_neurons=40 ...\n",
      "Train on 7740 samples, validate on 3870 samples\n",
      "Epoch 1/10\n",
      "7740/7740 [==============================] - 0s 56us/sample - loss: 2.2650 - val_loss: 2.2343\n",
      "Epoch 2/10\n",
      "7740/7740 [==============================] - 0s 27us/sample - loss: 0.9111 - val_loss: 0.7487\n",
      "Epoch 3/10\n",
      "7740/7740 [==============================] - 0s 28us/sample - loss: 0.7340 - val_loss: 0.6801\n",
      "Epoch 4/10\n",
      "7740/7740 [==============================] - 0s 28us/sample - loss: 0.6826 - val_loss: 0.6536\n",
      "Epoch 5/10\n",
      "7740/7740 [==============================] - 0s 28us/sample - loss: 0.6485 - val_loss: 0.5935\n",
      "Epoch 6/10\n",
      "7740/7740 [==============================] - 0s 28us/sample - loss: 0.6203 - val_loss: 0.5671\n",
      "Epoch 7/10\n",
      "7740/7740 [==============================] - 0s 28us/sample - loss: 0.5963 - val_loss: 0.5545\n",
      "Epoch 8/10\n",
      "7740/7740 [==============================] - 0s 27us/sample - loss: 0.5755 - val_loss: 0.5287\n",
      "Epoch 9/10\n",
      "7740/7740 [==============================] - 0s 28us/sample - loss: 0.5567 - val_loss: 0.5118\n",
      "Epoch 10/10\n",
      "7740/7740 [==============================] - 0s 28us/sample - loss: 0.5403 - val_loss: 0.4970\n",
      "3870/3870 [==============================] - 0s 13us/sample - loss: 0.5395\n",
      "[CV]  learning_rate=0.0011740004574313117, n_hidden=1, n_neurons=40, total=   2.5s\n",
      "[CV] learning_rate=0.0011740004574313117, n_hidden=1, n_neurons=40 ...\n",
      "Train on 7740 samples, validate on 3870 samples\n",
      "Epoch 1/10\n",
      "7740/7740 [==============================] - 0s 56us/sample - loss: 2.6334 - val_loss: 3.9329\n",
      "Epoch 2/10\n",
      "7740/7740 [==============================] - 0s 27us/sample - loss: 0.7741 - val_loss: 2.3327\n",
      "Epoch 3/10\n",
      "7740/7740 [==============================] - 0s 26us/sample - loss: 0.6407 - val_loss: 1.0776\n",
      "Epoch 4/10\n",
      "7740/7740 [==============================] - 0s 26us/sample - loss: 0.5934 - val_loss: 0.6307\n",
      "Epoch 5/10\n",
      "7740/7740 [==============================] - 0s 28us/sample - loss: 0.5617 - val_loss: 0.5204\n",
      "Epoch 6/10\n",
      "7740/7740 [==============================] - 0s 27us/sample - loss: 0.5370 - val_loss: 0.5587\n",
      "Epoch 7/10\n",
      "7740/7740 [==============================] - 0s 28us/sample - loss: 0.5172 - val_loss: 0.6994\n",
      "3870/3870 [==============================] - 0s 12us/sample - loss: 0.5228\n",
      "[CV]  learning_rate=0.0011740004574313117, n_hidden=1, n_neurons=40, total=   1.8s\n",
      "[CV] learning_rate=0.0011740004574313117, n_hidden=1, n_neurons=40 ...\n",
      "Train on 7740 samples, validate on 3870 samples\n",
      "Epoch 1/10\n",
      "7740/7740 [==============================] - 0s 55us/sample - loss: 2.1419 - val_loss: 2.2749\n",
      "Epoch 2/10\n",
      "7740/7740 [==============================] - 0s 26us/sample - loss: 0.8457 - val_loss: 0.7695\n",
      "Epoch 3/10\n",
      "7740/7740 [==============================] - 0s 26us/sample - loss: 0.7174 - val_loss: 0.6842\n",
      "Epoch 4/10\n",
      "7740/7740 [==============================] - 0s 26us/sample - loss: 0.6778 - val_loss: 0.6541\n",
      "Epoch 5/10\n",
      "7740/7740 [==============================] - 0s 26us/sample - loss: 0.6507 - val_loss: 0.6358\n",
      "Epoch 6/10\n",
      "7740/7740 [==============================] - 0s 26us/sample - loss: 0.6281 - val_loss: 0.6142\n",
      "Epoch 7/10\n",
      "7740/7740 [==============================] - 0s 26us/sample - loss: 0.6073 - val_loss: 0.5950\n",
      "Epoch 8/10\n",
      "7740/7740 [==============================] - 0s 26us/sample - loss: 0.5882 - val_loss: 0.5700\n",
      "Epoch 9/10\n",
      "7740/7740 [==============================] - 0s 26us/sample - loss: 0.5705 - val_loss: 0.5648\n",
      "Epoch 10/10\n",
      "7740/7740 [==============================] - 0s 26us/sample - loss: 0.5545 - val_loss: 0.5382\n",
      "3870/3870 [==============================] - 0s 11us/sample - loss: 0.5638\n",
      "[CV]  learning_rate=0.0011740004574313117, n_hidden=1, n_neurons=40, total=   2.4s\n",
      "[CV] learning_rate=0.0003223992836809523, n_hidden=1, n_neurons=40 ...\n"
     ]
    },
    {
     "name": "stdout",
     "output_type": "stream",
     "text": [
      "Train on 7740 samples, validate on 3870 samples\n",
      "Epoch 1/10\n",
      "7740/7740 [==============================] - 0s 57us/sample - loss: 3.4417 - val_loss: 5.2421\n",
      "Epoch 2/10\n",
      "7740/7740 [==============================] - 0s 28us/sample - loss: 2.0450 - val_loss: 4.3326\n",
      "Epoch 3/10\n",
      "7740/7740 [==============================] - 0s 27us/sample - loss: 1.4678 - val_loss: 3.3556\n",
      "Epoch 4/10\n",
      "7740/7740 [==============================] - 0s 27us/sample - loss: 1.1724 - val_loss: 2.4579\n",
      "Epoch 5/10\n",
      "7740/7740 [==============================] - 0s 28us/sample - loss: 1.0084 - val_loss: 1.7886\n",
      "Epoch 6/10\n",
      "7740/7740 [==============================] - 0s 28us/sample - loss: 0.9110 - val_loss: 1.3454\n",
      "Epoch 7/10\n",
      "7740/7740 [==============================] - 0s 28us/sample - loss: 0.8502 - val_loss: 1.0718\n",
      "Epoch 8/10\n",
      "7740/7740 [==============================] - 0s 28us/sample - loss: 0.8101 - val_loss: 0.9072\n",
      "Epoch 9/10\n",
      "7740/7740 [==============================] - 0s 28us/sample - loss: 0.7815 - val_loss: 0.8095\n",
      "Epoch 10/10\n",
      "7740/7740 [==============================] - 0s 28us/sample - loss: 0.7599 - val_loss: 0.7502\n",
      "3870/3870 [==============================] - 0s 12us/sample - loss: 0.7458\n",
      "[CV]  learning_rate=0.0003223992836809523, n_hidden=1, n_neurons=40, total=   2.5s\n",
      "[CV] learning_rate=0.0003223992836809523, n_hidden=1, n_neurons=40 ...\n",
      "Train on 7740 samples, validate on 3870 samples\n",
      "Epoch 1/10\n",
      "7740/7740 [==============================] - 0s 55us/sample - loss: 4.7116 - val_loss: 5.5193\n",
      "Epoch 2/10\n",
      "7740/7740 [==============================] - 0s 26us/sample - loss: 2.5636 - val_loss: 6.9282\n",
      "Epoch 3/10\n",
      "7740/7740 [==============================] - 0s 26us/sample - loss: 1.6147 - val_loss: 7.9550\n",
      "3870/3870 [==============================] - 0s 13us/sample - loss: 1.4743\n",
      "[CV]  learning_rate=0.0003223992836809523, n_hidden=1, n_neurons=40, total=   1.0s\n",
      "[CV] learning_rate=0.0003223992836809523, n_hidden=1, n_neurons=40 ...\n",
      "Train on 7740 samples, validate on 3870 samples\n",
      "Epoch 1/10\n",
      "7740/7740 [==============================] - 0s 59us/sample - loss: 4.4369 - val_loss: 3.2062\n",
      "Epoch 2/10\n",
      "7740/7740 [==============================] - 0s 29us/sample - loss: 2.6566 - val_loss: 2.3658\n",
      "Epoch 3/10\n",
      "7740/7740 [==============================] - 0s 28us/sample - loss: 1.8048 - val_loss: 1.6946\n",
      "Epoch 4/10\n",
      "7740/7740 [==============================] - 0s 28us/sample - loss: 1.3308 - val_loss: 1.2355\n",
      "Epoch 5/10\n",
      "7740/7740 [==============================] - 0s 29us/sample - loss: 1.0486 - val_loss: 0.9431\n",
      "Epoch 6/10\n",
      "7740/7740 [==============================] - 0s 29us/sample - loss: 0.8770 - val_loss: 0.7954\n",
      "Epoch 7/10\n",
      "7740/7740 [==============================] - 0s 29us/sample - loss: 0.7731 - val_loss: 0.7195\n",
      "Epoch 8/10\n",
      "7740/7740 [==============================] - 0s 28us/sample - loss: 0.7103 - val_loss: 0.6758\n",
      "Epoch 9/10\n",
      "7740/7740 [==============================] - 0s 29us/sample - loss: 0.6717 - val_loss: 0.6488\n",
      "Epoch 10/10\n",
      "7740/7740 [==============================] - 0s 28us/sample - loss: 0.6474 - val_loss: 0.6240\n",
      "3870/3870 [==============================] - 0s 14us/sample - loss: 0.6384\n",
      "[CV]  learning_rate=0.0003223992836809523, n_hidden=1, n_neurons=40, total=   2.7s\n",
      "[CV] learning_rate=0.0007491221143515814, n_hidden=3, n_neurons=42 ...\n",
      "Train on 7740 samples, validate on 3870 samples\n",
      "Epoch 1/10\n",
      "7740/7740 [==============================] - 1s 67us/sample - loss: 2.5702 - val_loss: 5.5678\n",
      "Epoch 2/10\n",
      "7740/7740 [==============================] - 0s 31us/sample - loss: 1.0926 - val_loss: 1.5453\n",
      "Epoch 3/10\n",
      "7740/7740 [==============================] - 0s 31us/sample - loss: 0.7667 - val_loss: 0.7013\n",
      "Epoch 4/10\n",
      "7740/7740 [==============================] - 0s 31us/sample - loss: 0.6704 - val_loss: 0.6126\n",
      "Epoch 5/10\n",
      "7740/7740 [==============================] - 0s 31us/sample - loss: 0.6292 - val_loss: 0.5774\n",
      "Epoch 6/10\n",
      "7740/7740 [==============================] - 0s 31us/sample - loss: 0.6003 - val_loss: 0.5502\n",
      "Epoch 7/10\n",
      "7740/7740 [==============================] - 0s 31us/sample - loss: 0.5764 - val_loss: 0.5294\n",
      "Epoch 8/10\n",
      "7740/7740 [==============================] - 0s 31us/sample - loss: 0.5558 - val_loss: 0.5112\n",
      "Epoch 9/10\n",
      "7740/7740 [==============================] - 0s 31us/sample - loss: 0.5375 - val_loss: 0.4968\n",
      "Epoch 10/10\n",
      "7740/7740 [==============================] - 0s 31us/sample - loss: 0.5210 - val_loss: 0.4855\n",
      "3870/3870 [==============================] - 0s 14us/sample - loss: 0.5092\n",
      "[CV]  learning_rate=0.0007491221143515814, n_hidden=3, n_neurons=42, total=   2.8s\n",
      "[CV] learning_rate=0.0007491221143515814, n_hidden=3, n_neurons=42 ...\n",
      "Train on 7740 samples, validate on 3870 samples\n",
      "Epoch 1/10\n",
      "7740/7740 [==============================] - 1s 65us/sample - loss: 3.0703 - val_loss: 10.7079\n",
      "Epoch 2/10\n",
      "7740/7740 [==============================] - 0s 30us/sample - loss: 1.0802 - val_loss: 8.0347\n",
      "Epoch 3/10\n",
      "7740/7740 [==============================] - 0s 29us/sample - loss: 0.8181 - val_loss: 4.7917\n",
      "Epoch 4/10\n",
      "7740/7740 [==============================] - 0s 30us/sample - loss: 0.7178 - val_loss: 2.9760\n",
      "Epoch 5/10\n",
      "7740/7740 [==============================] - 0s 30us/sample - loss: 0.6672 - val_loss: 1.9414\n",
      "Epoch 6/10\n",
      "7740/7740 [==============================] - 0s 30us/sample - loss: 0.6317 - val_loss: 1.3693\n",
      "Epoch 7/10\n",
      "7740/7740 [==============================] - 0s 30us/sample - loss: 0.6031 - val_loss: 0.9736\n",
      "Epoch 8/10\n",
      "7740/7740 [==============================] - 0s 30us/sample - loss: 0.5791 - val_loss: 0.7885\n",
      "Epoch 9/10\n",
      "7740/7740 [==============================] - 0s 30us/sample - loss: 0.5575 - val_loss: 0.6168\n",
      "Epoch 10/10\n",
      "7740/7740 [==============================] - 0s 30us/sample - loss: 0.5384 - val_loss: 0.5422\n",
      "3870/3870 [==============================] - 0s 13us/sample - loss: 0.5336\n",
      "[CV]  learning_rate=0.0007491221143515814, n_hidden=3, n_neurons=42, total=   2.7s\n",
      "[CV] learning_rate=0.0007491221143515814, n_hidden=3, n_neurons=42 ...\n",
      "Train on 7740 samples, validate on 3870 samples\n",
      "Epoch 1/10\n",
      "7740/7740 [==============================] - 1s 66us/sample - loss: 2.5200 - val_loss: 6.7831\n",
      "Epoch 2/10\n",
      "7740/7740 [==============================] - 0s 30us/sample - loss: 0.9525 - val_loss: 2.6777\n",
      "Epoch 3/10\n",
      "7740/7740 [==============================] - 0s 31us/sample - loss: 0.7366 - val_loss: 1.5334\n",
      "Epoch 4/10\n",
      "7740/7740 [==============================] - 0s 30us/sample - loss: 0.6687 - val_loss: 1.0885\n",
      "Epoch 5/10\n",
      "7740/7740 [==============================] - 0s 30us/sample - loss: 0.6307 - val_loss: 0.8579\n",
      "Epoch 6/10\n",
      "7740/7740 [==============================] - 0s 30us/sample - loss: 0.6023 - val_loss: 0.7106\n",
      "Epoch 7/10\n",
      "7740/7740 [==============================] - 0s 31us/sample - loss: 0.5788 - val_loss: 0.6280\n",
      "Epoch 8/10\n",
      "7740/7740 [==============================] - 0s 31us/sample - loss: 0.5584 - val_loss: 0.5762\n",
      "Epoch 9/10\n",
      "7740/7740 [==============================] - 0s 44us/sample - loss: 0.5406 - val_loss: 0.5369\n",
      "Epoch 10/10\n",
      "7740/7740 [==============================] - 0s 45us/sample - loss: 0.5245 - val_loss: 0.5133\n",
      "3870/3870 [==============================] - 0s 21us/sample - loss: 0.5181\n",
      "[CV]  learning_rate=0.0007491221143515814, n_hidden=3, n_neurons=42, total=   3.1s\n",
      "[CV] learning_rate=0.0007495594138208465, n_hidden=3, n_neurons=42 ...\n",
      "Train on 7740 samples, validate on 3870 samples\n",
      "Epoch 1/10\n",
      "7740/7740 [==============================] - 1s 126us/sample - loss: 2.3901 - val_loss: 11.1950\n",
      "Epoch 2/10\n",
      "7740/7740 [==============================] - 0s 55us/sample - loss: 1.0596 - val_loss: 0.9854\n",
      "Epoch 3/10\n",
      "7740/7740 [==============================] - 0s 54us/sample - loss: 0.7752 - val_loss: 0.7208\n",
      "Epoch 4/10\n",
      "7740/7740 [==============================] - 0s 49us/sample - loss: 0.7069 - val_loss: 0.6550\n",
      "Epoch 5/10\n",
      "7740/7740 [==============================] - 0s 47us/sample - loss: 0.6706 - val_loss: 0.6208\n",
      "Epoch 6/10\n",
      "7740/7740 [==============================] - 0s 48us/sample - loss: 0.6435 - val_loss: 0.5933\n",
      "Epoch 7/10\n",
      "7740/7740 [==============================] - 0s 50us/sample - loss: 0.6199 - val_loss: 0.5709\n",
      "Epoch 8/10\n",
      "7740/7740 [==============================] - 0s 50us/sample - loss: 0.5984 - val_loss: 0.5534\n",
      "Epoch 9/10\n"
     ]
    },
    {
     "name": "stdout",
     "output_type": "stream",
     "text": [
      "7740/7740 [==============================] - 0s 49us/sample - loss: 0.5787 - val_loss: 0.5359\n",
      "Epoch 10/10\n",
      "7740/7740 [==============================] - 0s 48us/sample - loss: 0.5606 - val_loss: 0.5256\n",
      "3870/3870 [==============================] - 0s 20us/sample - loss: 0.5470\n",
      "[CV]  learning_rate=0.0007495594138208465, n_hidden=3, n_neurons=42, total=   4.7s\n",
      "[CV] learning_rate=0.0007495594138208465, n_hidden=3, n_neurons=42 ...\n",
      "Train on 7740 samples, validate on 3870 samples\n",
      "Epoch 1/10\n",
      "7740/7740 [==============================] - 1s 153us/sample - loss: 3.0833 - val_loss: 6.6613\n",
      "Epoch 2/10\n",
      "7740/7740 [==============================] - 0s 49us/sample - loss: 1.2815 - val_loss: 5.8377\n",
      "Epoch 3/10\n",
      "7740/7740 [==============================] - 0s 49us/sample - loss: 0.9288 - val_loss: 3.8893\n",
      "Epoch 4/10\n",
      "7740/7740 [==============================] - 0s 48us/sample - loss: 0.7686 - val_loss: 2.7157\n",
      "Epoch 5/10\n",
      "7740/7740 [==============================] - 0s 50us/sample - loss: 0.6997 - val_loss: 1.9477\n",
      "Epoch 6/10\n",
      "7740/7740 [==============================] - 0s 51us/sample - loss: 0.6632 - val_loss: 1.4712\n",
      "Epoch 7/10\n",
      "7740/7740 [==============================] - 0s 49us/sample - loss: 0.6367 - val_loss: 1.0708\n",
      "Epoch 8/10\n",
      "7740/7740 [==============================] - 0s 47us/sample - loss: 0.6135 - val_loss: 0.8980\n",
      "Epoch 9/10\n",
      "7740/7740 [==============================] - 0s 47us/sample - loss: 0.5922 - val_loss: 0.7429\n",
      "Epoch 10/10\n",
      "7740/7740 [==============================] - 0s 50us/sample - loss: 0.5729 - val_loss: 0.6804\n",
      "3870/3870 [==============================] - 0s 21us/sample - loss: 0.5739\n",
      "[CV]  learning_rate=0.0007495594138208465, n_hidden=3, n_neurons=42, total=   4.9s\n",
      "[CV] learning_rate=0.0007495594138208465, n_hidden=3, n_neurons=42 ...\n",
      "Train on 7740 samples, validate on 3870 samples\n",
      "Epoch 1/10\n",
      "7740/7740 [==============================] - 1s 122us/sample - loss: 2.3160 - val_loss: 3.6251\n",
      "Epoch 2/10\n",
      "7740/7740 [==============================] - 0s 47us/sample - loss: 0.8371 - val_loss: 0.7895\n",
      "Epoch 3/10\n",
      "7740/7740 [==============================] - 0s 51us/sample - loss: 0.7156 - val_loss: 0.6883\n",
      "Epoch 4/10\n",
      "7740/7740 [==============================] - 0s 49us/sample - loss: 0.6687 - val_loss: 0.6350\n",
      "Epoch 5/10\n",
      "7740/7740 [==============================] - 0s 49us/sample - loss: 0.6327 - val_loss: 0.5950\n",
      "Epoch 6/10\n",
      "7740/7740 [==============================] - 0s 50us/sample - loss: 0.6021 - val_loss: 0.5654\n",
      "Epoch 7/10\n",
      "7740/7740 [==============================] - 0s 48us/sample - loss: 0.5757 - val_loss: 0.5402\n",
      "Epoch 8/10\n",
      "7740/7740 [==============================] - 0s 49us/sample - loss: 0.5525 - val_loss: 0.5192\n",
      "Epoch 9/10\n",
      "7740/7740 [==============================] - 0s 49us/sample - loss: 0.5322 - val_loss: 0.4991\n",
      "Epoch 10/10\n",
      "7740/7740 [==============================] - 0s 50us/sample - loss: 0.5143 - val_loss: 0.4869\n",
      "3870/3870 [==============================] - 0s 21us/sample - loss: 0.5161\n",
      "[CV]  learning_rate=0.0007495594138208465, n_hidden=3, n_neurons=42, total=   4.6s\n",
      "[CV] learning_rate=0.010463137873637788, n_hidden=1, n_neurons=41 ....\n",
      "Train on 7740 samples, validate on 3870 samples\n",
      "Epoch 1/10\n",
      "7740/7740 [==============================] - 1s 99us/sample - loss: 1.5656 - val_loss: 16.5148\n",
      "Epoch 2/10\n",
      "7740/7740 [==============================] - 0s 44us/sample - loss: 0.5232 - val_loss: 109.9085\n",
      "Epoch 3/10\n",
      "7740/7740 [==============================] - 0s 44us/sample - loss: 1.7752 - val_loss: 18.3562\n",
      "3870/3870 [==============================] - 0s 23us/sample - loss: 0.4635\n",
      "[CV]  learning_rate=0.010463137873637788, n_hidden=1, n_neurons=41, total=   1.7s\n",
      "[CV] learning_rate=0.010463137873637788, n_hidden=1, n_neurons=41 ....\n",
      "Train on 7740 samples, validate on 3870 samples\n",
      "Epoch 1/10\n",
      "7740/7740 [==============================] - 1s 105us/sample - loss: 0.8102 - val_loss: 0.8717\n",
      "Epoch 2/10\n",
      "7740/7740 [==============================] - 0s 42us/sample - loss: 0.4851 - val_loss: 1.0189\n",
      "Epoch 3/10\n",
      "7740/7740 [==============================] - 0s 42us/sample - loss: 0.4416 - val_loss: 0.4383\n",
      "Epoch 4/10\n",
      "7740/7740 [==============================] - 0s 43us/sample - loss: 0.4160 - val_loss: 0.3938\n",
      "Epoch 5/10\n",
      "7740/7740 [==============================] - 0s 43us/sample - loss: 0.4040 - val_loss: 0.4073\n",
      "Epoch 6/10\n",
      "7740/7740 [==============================] - 0s 44us/sample - loss: 0.3936 - val_loss: 0.5078\n",
      "3870/3870 [==============================] - 0s 18us/sample - loss: 0.3975\n",
      "[CV]  learning_rate=0.010463137873637788, n_hidden=1, n_neurons=41, total=   2.7s\n",
      "[CV] learning_rate=0.010463137873637788, n_hidden=1, n_neurons=41 ....\n",
      "Train on 7740 samples, validate on 3870 samples\n",
      "Epoch 1/10\n",
      "7740/7740 [==============================] - 1s 101us/sample - loss: 1.0347 - val_loss: 5.5927\n",
      "Epoch 2/10\n",
      "7740/7740 [==============================] - 0s 43us/sample - loss: 0.4810 - val_loss: 15.4140\n",
      "Epoch 3/10\n",
      "7740/7740 [==============================] - 0s 44us/sample - loss: 0.7464 - val_loss: 0.9404\n",
      "Epoch 4/10\n",
      "7740/7740 [==============================] - 0s 41us/sample - loss: 0.4397 - val_loss: 3.9547\n",
      "Epoch 5/10\n",
      "7740/7740 [==============================] - 0s 43us/sample - loss: 0.5284 - val_loss: 9.3041\n",
      "3870/3870 [==============================] - 0s 18us/sample - loss: 0.4118\n",
      "[CV]  learning_rate=0.010463137873637788, n_hidden=1, n_neurons=41, total=   2.3s\n"
     ]
    },
    {
     "name": "stderr",
     "output_type": "stream",
     "text": [
      "[Parallel(n_jobs=1)]: Done  30 out of  30 | elapsed:  1.1min finished\n"
     ]
    },
    {
     "ename": "RuntimeError",
     "evalue": "Cannot clone object <tensorflow.python.keras.wrappers.scikit_learn.KerasRegressor object at 0x0000025C9CFCEA58>, as the constructor either does not set or modifies parameter learning_rate",
     "output_type": "error",
     "traceback": [
      "\u001b[1;31m---------------------------------------------------------------------------\u001b[0m",
      "\u001b[1;31mRuntimeError\u001b[0m                              Traceback (most recent call last)",
      "\u001b[1;32m<timed eval>\u001b[0m in \u001b[0;36m<module>\u001b[1;34m()\u001b[0m\n",
      "\u001b[1;32m~\\anaconda3\\envs\\tf2\\lib\\site-packages\\sklearn\\utils\\validation.py\u001b[0m in \u001b[0;36minner_f\u001b[1;34m(*args, **kwargs)\u001b[0m\n\u001b[0;32m     70\u001b[0m     \u001b[0mallow_nan\u001b[0m \u001b[1;33m:\u001b[0m \u001b[0mbool\u001b[0m\u001b[1;33m\u001b[0m\u001b[0m\n\u001b[0;32m     71\u001b[0m     \"\"\"\n\u001b[1;32m---> 72\u001b[1;33m     \u001b[0m_assert_all_finite\u001b[0m\u001b[1;33m(\u001b[0m\u001b[0mX\u001b[0m\u001b[1;33m.\u001b[0m\u001b[0mdata\u001b[0m \u001b[1;32mif\u001b[0m \u001b[0msp\u001b[0m\u001b[1;33m.\u001b[0m\u001b[0missparse\u001b[0m\u001b[1;33m(\u001b[0m\u001b[0mX\u001b[0m\u001b[1;33m)\u001b[0m \u001b[1;32melse\u001b[0m \u001b[0mX\u001b[0m\u001b[1;33m,\u001b[0m \u001b[0mallow_nan\u001b[0m\u001b[1;33m)\u001b[0m\u001b[1;33m\u001b[0m\u001b[0m\n\u001b[0m\u001b[0;32m     73\u001b[0m \u001b[1;33m\u001b[0m\u001b[0m\n\u001b[0;32m     74\u001b[0m \u001b[1;33m\u001b[0m\u001b[0m\n",
      "\u001b[1;32m~\\anaconda3\\envs\\tf2\\lib\\site-packages\\sklearn\\model_selection\\_search.py\u001b[0m in \u001b[0;36mfit\u001b[1;34m(self, X, y, groups, **fit_params)\u001b[0m\n\u001b[0;32m    760\u001b[0m             \u001b[0mresults\u001b[0m\u001b[1;33m[\u001b[0m\u001b[1;34m'mean_%s'\u001b[0m \u001b[1;33m%\u001b[0m \u001b[0mkey_name\u001b[0m\u001b[1;33m]\u001b[0m \u001b[1;33m=\u001b[0m \u001b[0marray_means\u001b[0m\u001b[1;33m\u001b[0m\u001b[0m\n\u001b[0;32m    761\u001b[0m             \u001b[1;31m# Weighted std is not directly available in numpy\u001b[0m\u001b[1;33m\u001b[0m\u001b[1;33m\u001b[0m\u001b[0m\n\u001b[1;32m--> 762\u001b[1;33m             array_stds = np.sqrt(np.average((array -\n\u001b[0m\u001b[0;32m    763\u001b[0m                                              array_means[:, np.newaxis]) ** 2,\n\u001b[0;32m    764\u001b[0m                                             axis=1, weights=weights))\n",
      "\u001b[1;32m~\\anaconda3\\envs\\tf2\\lib\\site-packages\\sklearn\\utils\\validation.py\u001b[0m in \u001b[0;36minner_f\u001b[1;34m(*args, **kwargs)\u001b[0m\n\u001b[0;32m     70\u001b[0m     \u001b[0mallow_nan\u001b[0m \u001b[1;33m:\u001b[0m \u001b[0mbool\u001b[0m\u001b[1;33m\u001b[0m\u001b[0m\n\u001b[0;32m     71\u001b[0m     \"\"\"\n\u001b[1;32m---> 72\u001b[1;33m     \u001b[0m_assert_all_finite\u001b[0m\u001b[1;33m(\u001b[0m\u001b[0mX\u001b[0m\u001b[1;33m.\u001b[0m\u001b[0mdata\u001b[0m \u001b[1;32mif\u001b[0m \u001b[0msp\u001b[0m\u001b[1;33m.\u001b[0m\u001b[0missparse\u001b[0m\u001b[1;33m(\u001b[0m\u001b[0mX\u001b[0m\u001b[1;33m)\u001b[0m \u001b[1;32melse\u001b[0m \u001b[0mX\u001b[0m\u001b[1;33m,\u001b[0m \u001b[0mallow_nan\u001b[0m\u001b[1;33m)\u001b[0m\u001b[1;33m\u001b[0m\u001b[0m\n\u001b[0m\u001b[0;32m     73\u001b[0m \u001b[1;33m\u001b[0m\u001b[0m\n\u001b[0;32m     74\u001b[0m \u001b[1;33m\u001b[0m\u001b[0m\n",
      "\u001b[1;32m~\\anaconda3\\envs\\tf2\\lib\\site-packages\\sklearn\\base.py\u001b[0m in \u001b[0;36mclone\u001b[1;34m(estimator, safe)\u001b[0m\n\u001b[0;32m     96\u001b[0m     \u001b[0moptions\u001b[0m \u001b[1;33m=\u001b[0m \u001b[0mnp\u001b[0m\u001b[1;33m.\u001b[0m\u001b[0mget_printoptions\u001b[0m\u001b[1;33m(\u001b[0m\u001b[1;33m)\u001b[0m\u001b[1;33m\u001b[0m\u001b[0m\n\u001b[0;32m     97\u001b[0m     \u001b[0mnp\u001b[0m\u001b[1;33m.\u001b[0m\u001b[0mset_printoptions\u001b[0m\u001b[1;33m(\u001b[0m\u001b[0mprecision\u001b[0m\u001b[1;33m=\u001b[0m\u001b[1;36m5\u001b[0m\u001b[1;33m,\u001b[0m \u001b[0mthreshold\u001b[0m\u001b[1;33m=\u001b[0m\u001b[1;36m64\u001b[0m\u001b[1;33m,\u001b[0m \u001b[0medgeitems\u001b[0m\u001b[1;33m=\u001b[0m\u001b[1;36m2\u001b[0m\u001b[1;33m)\u001b[0m\u001b[1;33m\u001b[0m\u001b[0m\n\u001b[1;32m---> 98\u001b[1;33m     \u001b[0mparams_list\u001b[0m \u001b[1;33m=\u001b[0m \u001b[0mlist\u001b[0m\u001b[1;33m(\u001b[0m\u001b[1;33m)\u001b[0m\u001b[1;33m\u001b[0m\u001b[0m\n\u001b[0m\u001b[0;32m     99\u001b[0m     \u001b[0mthis_line_length\u001b[0m \u001b[1;33m=\u001b[0m \u001b[0moffset\u001b[0m\u001b[1;33m\u001b[0m\u001b[0m\n\u001b[0;32m    100\u001b[0m     \u001b[0mline_sep\u001b[0m \u001b[1;33m=\u001b[0m \u001b[1;34m',\\n'\u001b[0m \u001b[1;33m+\u001b[0m \u001b[1;33m(\u001b[0m\u001b[1;36m1\u001b[0m \u001b[1;33m+\u001b[0m \u001b[0moffset\u001b[0m \u001b[1;33m//\u001b[0m \u001b[1;36m2\u001b[0m\u001b[1;33m)\u001b[0m \u001b[1;33m*\u001b[0m \u001b[1;34m' '\u001b[0m\u001b[1;33m\u001b[0m\u001b[0m\n",
      "\u001b[1;31mRuntimeError\u001b[0m: Cannot clone object <tensorflow.python.keras.wrappers.scikit_learn.KerasRegressor object at 0x0000025C9CFCEA58>, as the constructor either does not set or modifies parameter learning_rate"
     ]
    }
   ],
   "source": [
    "%%time\n",
    "rnd_search_cv.fit(X_train, y_train, epochs=10, validation_data=(X_valid, y_valid),\n",
    "                 callbacks=[keras.callbacks.EarlyStopping(patience=2)])"
   ]
  },
  {
   "cell_type": "code",
   "execution_count": 54,
   "metadata": {},
   "outputs": [
    {
     "data": {
      "text/plain": [
       "{'learning_rate': 0.01848314861814289, 'n_hidden': 2, 'n_neurons': 43}"
      ]
     },
     "execution_count": 54,
     "metadata": {},
     "output_type": "execute_result"
    }
   ],
   "source": [
    "rnd_search_cv.best_params_"
   ]
  },
  {
   "cell_type": "code",
   "execution_count": 55,
   "metadata": {},
   "outputs": [
    {
     "ename": "AttributeError",
     "evalue": "'RandomizedSearchCV' object has no attribute 'scorer_'",
     "output_type": "error",
     "traceback": [
      "\u001b[1;31m---------------------------------------------------------------------------\u001b[0m",
      "\u001b[1;31mAttributeError\u001b[0m                            Traceback (most recent call last)",
      "\u001b[1;32m<ipython-input-55-dea3cc0f223f>\u001b[0m in \u001b[0;36m<module>\u001b[1;34m()\u001b[0m\n\u001b[1;32m----> 1\u001b[1;33m \u001b[0mrnd_search_cv\u001b[0m\u001b[1;33m.\u001b[0m\u001b[0mscore\u001b[0m\u001b[1;33m(\u001b[0m\u001b[0mX_test\u001b[0m\u001b[1;33m,\u001b[0m\u001b[0my_test\u001b[0m\u001b[1;33m)\u001b[0m\u001b[1;33m\u001b[0m\u001b[0m\n\u001b[0m",
      "\u001b[1;32m~\\anaconda3\\envs\\tf2\\lib\\site-packages\\sklearn\\model_selection\\_search.py\u001b[0m in \u001b[0;36mscore\u001b[1;34m(self, X, y)\u001b[0m\n\u001b[0;32m    451\u001b[0m         \u001b[0mX\u001b[0m \u001b[1;33m:\u001b[0m \u001b[0mindexable\u001b[0m\u001b[1;33m,\u001b[0m \u001b[0mlength\u001b[0m \u001b[0mn_samples\u001b[0m\u001b[1;33m\u001b[0m\u001b[0m\n\u001b[0;32m    452\u001b[0m             \u001b[0mMust\u001b[0m \u001b[0mfulfill\u001b[0m \u001b[0mthe\u001b[0m \u001b[0minput\u001b[0m \u001b[0massumptions\u001b[0m \u001b[0mof\u001b[0m \u001b[0mthe\u001b[0m\u001b[1;33m\u001b[0m\u001b[0m\n\u001b[1;32m--> 453\u001b[1;33m             \u001b[0munderlying\u001b[0m \u001b[0mestimator\u001b[0m\u001b[1;33m.\u001b[0m\u001b[1;33m\u001b[0m\u001b[0m\n\u001b[0m\u001b[0;32m    454\u001b[0m \u001b[1;33m\u001b[0m\u001b[0m\n\u001b[0;32m    455\u001b[0m         \"\"\"\n",
      "\u001b[1;31mAttributeError\u001b[0m: 'RandomizedSearchCV' object has no attribute 'scorer_'"
     ]
    }
   ],
   "source": [
    "rnd_search_cv.score(X_test,y_test)"
   ]
  },
  {
   "cell_type": "code",
   "execution_count": null,
   "metadata": {},
   "outputs": [],
   "source": [
    "rnd_search_cv.best_estimator_"
   ]
  },
  {
   "cell_type": "code",
   "execution_count": null,
   "metadata": {},
   "outputs": [],
   "source": [
    "model=rnd_search_cv"
   ]
  },
  {
   "cell_type": "code",
   "execution_count": null,
   "metadata": {},
   "outputs": [],
   "source": []
  }
 ],
 "metadata": {
  "kernelspec": {
   "display_name": "Python 3",
   "language": "python",
   "name": "python3"
  },
  "language_info": {
   "codemirror_mode": {
    "name": "ipython",
    "version": 3
   },
   "file_extension": ".py",
   "mimetype": "text/x-python",
   "name": "python",
   "nbconvert_exporter": "python",
   "pygments_lexer": "ipython3",
   "version": "3.7.0"
  }
 },
 "nbformat": 4,
 "nbformat_minor": 2
}
