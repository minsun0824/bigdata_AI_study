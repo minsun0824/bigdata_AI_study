{
 "cells": [
  {
   "cell_type": "code",
   "execution_count": 1,
   "metadata": {},
   "outputs": [],
   "source": [
    "%matplotlib inline\n",
    "import matplotlib.pyplot as plt\n",
    "import seaborn as sns\n",
    "import numpy as np\n",
    "import pandas as pd"
   ]
  },
  {
   "cell_type": "code",
   "execution_count": 2,
   "metadata": {},
   "outputs": [],
   "source": [
    "import tensorflow as tf"
   ]
  },
  {
   "cell_type": "code",
   "execution_count": 3,
   "metadata": {},
   "outputs": [],
   "source": [
    "from tensorflow import keras"
   ]
  },
  {
   "cell_type": "code",
   "execution_count": 4,
   "metadata": {},
   "outputs": [],
   "source": [
    "keras.backend.clear_session()\n",
    "np.random.seed(42)\n",
    "tf.random.set_seed(42)"
   ]
  },
  {
   "cell_type": "code",
   "execution_count": 5,
   "metadata": {},
   "outputs": [],
   "source": [
    "from sklearn.datasets import fetch_california_housing"
   ]
  },
  {
   "cell_type": "code",
   "execution_count": 6,
   "metadata": {},
   "outputs": [],
   "source": [
    "from sklearn.model_selection import train_test_split"
   ]
  },
  {
   "cell_type": "code",
   "execution_count": 7,
   "metadata": {},
   "outputs": [],
   "source": [
    "from sklearn.preprocessing import StandardScaler"
   ]
  },
  {
   "cell_type": "code",
   "execution_count": 9,
   "metadata": {},
   "outputs": [
    {
     "data": {
      "text/plain": [
       "['Constant',\n",
       " 'GlorotNormal',\n",
       " 'GlorotUniform',\n",
       " 'Identity',\n",
       " 'Initializer',\n",
       " 'Ones',\n",
       " 'Orthogonal',\n",
       " 'RandomNormal',\n",
       " 'RandomUniform',\n",
       " 'TruncatedNormal',\n",
       " 'VarianceScaling',\n",
       " 'Zeros',\n",
       " 'constant',\n",
       " 'deserialize',\n",
       " 'get',\n",
       " 'glorot_normal',\n",
       " 'glorot_uniform',\n",
       " 'he_normal',\n",
       " 'he_uniform',\n",
       " 'identity',\n",
       " 'lecun_normal',\n",
       " 'lecun_uniform',\n",
       " 'ones',\n",
       " 'orthogonal',\n",
       " 'serialize',\n",
       " 'zeros']"
      ]
     },
     "execution_count": 9,
     "metadata": {},
     "output_type": "execute_result"
    }
   ],
   "source": [
    "[name for name in dir(keras.initializers) if not name.startswith(\"_\")]\n",
    "#케라스에서 지원하는 초기화 함수들이 나타남"
   ]
  },
  {
   "cell_type": "code",
   "execution_count": 10,
   "metadata": {},
   "outputs": [
    {
     "data": {
      "text/plain": [
       "<tensorflow.python.keras.layers.core.Dense at 0x2a3b8154358>"
      ]
     },
     "execution_count": 10,
     "metadata": {},
     "output_type": "execute_result"
    }
   ],
   "source": [
    "keras.layers.Dense(10,activation='relu',kernel_initializer='he_normal') \n",
    "#                                                          초기화 함수들"
   ]
  },
  {
   "cell_type": "code",
   "execution_count": 11,
   "metadata": {},
   "outputs": [
    {
     "data": {
      "text/plain": [
       "['deserialize',\n",
       " 'elu',\n",
       " 'exponential',\n",
       " 'get',\n",
       " 'hard_sigmoid',\n",
       " 'linear',\n",
       " 'relu',\n",
       " 'selu',\n",
       " 'serialize',\n",
       " 'sigmoid',\n",
       " 'softmax',\n",
       " 'softplus',\n",
       " 'softsign',\n",
       " 'tanh']"
      ]
     },
     "execution_count": 11,
     "metadata": {},
     "output_type": "execute_result"
    }
   ],
   "source": [
    "#keras의 activation 종류들\n",
    "[m for m in dir(keras.activations) if not m.startswith('_')]"
   ]
  },
  {
   "cell_type": "code",
   "execution_count": 24,
   "metadata": {},
   "outputs": [],
   "source": [
    "(X_train_full,y_train_full), (X_test,y_test)=keras.datasets.fashion_mnist.load_data()"
   ]
  },
  {
   "cell_type": "code",
   "execution_count": 25,
   "metadata": {},
   "outputs": [],
   "source": [
    "X_train_full=X_train_full/255.0 #정규화"
   ]
  },
  {
   "cell_type": "code",
   "execution_count": 26,
   "metadata": {},
   "outputs": [],
   "source": [
    "X_test=X_test/255.0"
   ]
  },
  {
   "cell_type": "code",
   "execution_count": 27,
   "metadata": {},
   "outputs": [],
   "source": [
    "X_valid,X_train=X_train_full[:5000],X_train_full[5000:]\n",
    "y_valid,y_train=y_train_full[:5000],y_train_full[5000:]"
   ]
  },
  {
   "cell_type": "code",
   "execution_count": 29,
   "metadata": {},
   "outputs": [],
   "source": [
    "model=keras.models.Sequential([\n",
    "    keras.layers.Flatten(input_shape=[28,28]),\n",
    "    keras.layers.Dense(300,kernel_initializer='he_normal'),\n",
    "    keras.layers.LeakyReLU(),#원래 Relu를 수정한 것\n",
    "    keras.layers.Dense(100,kernel_initializer='he_normal'),\n",
    "    keras.layers.LeakyReLU(),\n",
    "    keras.layers.Dense(10,activation='softmax')\n",
    "    #줄이는 것도 효과적일수도 있지만, 최근에는 같은 숫자를 쓰는게 좋다는 말도.\n",
    "])\n",
    "\n",
    "#최적의 초기와 학자들이 연구함"
   ]
  },
  {
   "cell_type": "code",
   "execution_count": 30,
   "metadata": {},
   "outputs": [],
   "source": [
    "model.compile(loss='sparse_categorical_crossentropy',\n",
    "             optimizer=keras.optimizers.SGD(lr=1e-3),\n",
    "             metrics=['accuracy'])"
   ]
  },
  {
   "cell_type": "code",
   "execution_count": 31,
   "metadata": {},
   "outputs": [
    {
     "name": "stdout",
     "output_type": "stream",
     "text": [
      "Train on 55000 samples, validate on 5000 samples\n",
      "Epoch 1/30\n",
      "55000/55000 [==============================] - 4s 65us/sample - loss: 1.2810 - accuracy: 0.6205 - val_loss: 0.8869 - val_accuracy: 0.7160\n",
      "Epoch 2/30\n",
      "55000/55000 [==============================] - 3s 55us/sample - loss: 0.7952 - accuracy: 0.7369 - val_loss: 0.7132 - val_accuracy: 0.7626\n",
      "Epoch 3/30\n",
      "55000/55000 [==============================] - 3s 56us/sample - loss: 0.6817 - accuracy: 0.7725 - val_loss: 0.6385 - val_accuracy: 0.7896\n",
      "Epoch 4/30\n",
      "55000/55000 [==============================] - 3s 55us/sample - loss: 0.6219 - accuracy: 0.7941 - val_loss: 0.5931 - val_accuracy: 0.8016\n",
      "Epoch 5/30\n",
      "55000/55000 [==============================] - 3s 54us/sample - loss: 0.5830 - accuracy: 0.8073 - val_loss: 0.5607 - val_accuracy: 0.8170\n",
      "Epoch 6/30\n",
      "55000/55000 [==============================] - 3s 55us/sample - loss: 0.5552 - accuracy: 0.8173 - val_loss: 0.5355 - val_accuracy: 0.8238\n",
      "Epoch 7/30\n",
      "55000/55000 [==============================] - 3s 54us/sample - loss: 0.5339 - accuracy: 0.8225 - val_loss: 0.5166 - val_accuracy: 0.8298\n",
      "Epoch 8/30\n",
      "55000/55000 [==============================] - 3s 51us/sample - loss: 0.5173 - accuracy: 0.8261 - val_loss: 0.5043 - val_accuracy: 0.8356\n",
      "Epoch 9/30\n",
      "55000/55000 [==============================] - 3s 49us/sample - loss: 0.5039 - accuracy: 0.8306 - val_loss: 0.4890 - val_accuracy: 0.8384\n",
      "Epoch 10/30\n",
      "55000/55000 [==============================] - 3s 49us/sample - loss: 0.4923 - accuracy: 0.8333 - val_loss: 0.4816 - val_accuracy: 0.8398\n",
      "Epoch 11/30\n",
      "55000/55000 [==============================] - 3s 49us/sample - loss: 0.4826 - accuracy: 0.8357 - val_loss: 0.4707 - val_accuracy: 0.8450\n",
      "Epoch 12/30\n",
      "55000/55000 [==============================] - 3s 49us/sample - loss: 0.4744 - accuracy: 0.8382 - val_loss: 0.4642 - val_accuracy: 0.8466\n",
      "Epoch 13/30\n",
      "55000/55000 [==============================] - 3s 49us/sample - loss: 0.4668 - accuracy: 0.8395 - val_loss: 0.4571 - val_accuracy: 0.8470\n",
      "Epoch 14/30\n",
      "55000/55000 [==============================] - 3s 49us/sample - loss: 0.4603 - accuracy: 0.8419 - val_loss: 0.4533 - val_accuracy: 0.8498\n",
      "Epoch 15/30\n",
      "55000/55000 [==============================] - 3s 50us/sample - loss: 0.4548 - accuracy: 0.8437 - val_loss: 0.4455 - val_accuracy: 0.8526\n",
      "Epoch 16/30\n",
      "55000/55000 [==============================] - 3s 49us/sample - loss: 0.4496 - accuracy: 0.8452 - val_loss: 0.4426 - val_accuracy: 0.8508\n",
      "Epoch 17/30\n",
      "55000/55000 [==============================] - 3s 49us/sample - loss: 0.4447 - accuracy: 0.8463 - val_loss: 0.4393 - val_accuracy: 0.8536\n",
      "Epoch 18/30\n",
      "55000/55000 [==============================] - 3s 50us/sample - loss: 0.4402 - accuracy: 0.8469 - val_loss: 0.4337 - val_accuracy: 0.8548\n",
      "Epoch 19/30\n",
      "55000/55000 [==============================] - 3s 49us/sample - loss: 0.4361 - accuracy: 0.8487 - val_loss: 0.4329 - val_accuracy: 0.8530\n",
      "Epoch 20/30\n",
      "55000/55000 [==============================] - 3s 50us/sample - loss: 0.4323 - accuracy: 0.8504 - val_loss: 0.4283 - val_accuracy: 0.8560\n",
      "Epoch 21/30\n",
      "55000/55000 [==============================] - 3s 50us/sample - loss: 0.4290 - accuracy: 0.8507 - val_loss: 0.4265 - val_accuracy: 0.8558\n",
      "Epoch 22/30\n",
      "55000/55000 [==============================] - 3s 51us/sample - loss: 0.4252 - accuracy: 0.8522 - val_loss: 0.4260 - val_accuracy: 0.8578\n",
      "Epoch 23/30\n",
      "55000/55000 [==============================] - 3s 52us/sample - loss: 0.4222 - accuracy: 0.8520 - val_loss: 0.4196 - val_accuracy: 0.8578\n",
      "Epoch 24/30\n",
      "55000/55000 [==============================] - 3s 50us/sample - loss: 0.4194 - accuracy: 0.8546 - val_loss: 0.4163 - val_accuracy: 0.8576\n",
      "Epoch 25/30\n",
      "55000/55000 [==============================] - 3s 51us/sample - loss: 0.4166 - accuracy: 0.8559 - val_loss: 0.4158 - val_accuracy: 0.8566\n",
      "Epoch 26/30\n",
      "55000/55000 [==============================] - 3s 49us/sample - loss: 0.4139 - accuracy: 0.8559 - val_loss: 0.4153 - val_accuracy: 0.8614\n",
      "Epoch 27/30\n",
      "55000/55000 [==============================] - 3s 54us/sample - loss: 0.4109 - accuracy: 0.8566 - val_loss: 0.4107 - val_accuracy: 0.8606\n",
      "Epoch 28/30\n",
      "55000/55000 [==============================] - 3s 50us/sample - loss: 0.4087 - accuracy: 0.8582 - val_loss: 0.4097 - val_accuracy: 0.8636\n",
      "Epoch 29/30\n",
      "55000/55000 [==============================] - 3s 50us/sample - loss: 0.4064 - accuracy: 0.8588 - val_loss: 0.4072 - val_accuracy: 0.8628\n",
      "Epoch 30/30\n",
      "55000/55000 [==============================] - ETA: 0s - loss: 0.4041 - accuracy: 0.85 - 3s 50us/sample - loss: 0.4041 - accuracy: 0.8596 - val_loss: 0.4066 - val_accuracy: 0.8598\n"
     ]
    }
   ],
   "source": [
    "hist=model.fit(X_train,y_train,epochs=30,validation_data=(X_valid,y_valid))"
   ]
  },
  {
   "cell_type": "code",
   "execution_count": 32,
   "metadata": {},
   "outputs": [],
   "source": [
    "np.random.seed(42)\n",
    "tf.random.set_seed(42)\n",
    "model=keras.models.Sequential([\n",
    "    keras.layers.Flatten(input_shape=[28,28]),\n",
    "    keras.layers.Dense(300,kernel_initializer='he_normal'),\n",
    "    keras.layers.PReLU(),#원래 Relu를 수정한 것\n",
    "    keras.layers.Dense(100,kernel_initializer='he_normal'),\n",
    "    keras.layers.PReLU(),\n",
    "    keras.layers.Dense(10,activation='softmax')\n",
    "    #줄이는 것도 효과적일수도 있지만, 최근에는 같은 숫자를 쓰는게 좋다는 말도.\n",
    "])\n",
    "\n",
    "#최적의 초기와 학자들이 연구함"
   ]
  },
  {
   "cell_type": "code",
   "execution_count": 33,
   "metadata": {},
   "outputs": [],
   "source": [
    "model.compile(loss='sparse_categorical_crossentropy',\n",
    "             optimizer=keras.optimizers.SGD(lr=1e-3),\n",
    "             metrics=['accuracy'])"
   ]
  },
  {
   "cell_type": "code",
   "execution_count": 34,
   "metadata": {},
   "outputs": [
    {
     "name": "stdout",
     "output_type": "stream",
     "text": [
      "Train on 55000 samples, validate on 5000 samples\n",
      "Epoch 1/30\n",
      "55000/55000 [==============================] - 4s 70us/sample - loss: 1.3452 - accuracy: 0.6203 - val_loss: 0.9241 - val_accuracy: 0.7170\n",
      "Epoch 2/30\n",
      "55000/55000 [==============================] - 3s 62us/sample - loss: 0.8196 - accuracy: 0.7364 - val_loss: 0.7314 - val_accuracy: 0.7602\n",
      "Epoch 3/30\n",
      "55000/55000 [==============================] - 3s 59us/sample - loss: 0.6970 - accuracy: 0.7701 - val_loss: 0.6517 - val_accuracy: 0.7876\n",
      "Epoch 4/30\n",
      "55000/55000 [==============================] - 3s 59us/sample - loss: 0.6333 - accuracy: 0.7915 - val_loss: 0.6033 - val_accuracy: 0.8054\n",
      "Epoch 5/30\n",
      "55000/55000 [==============================] - 3s 58us/sample - loss: 0.5917 - accuracy: 0.8049 - val_loss: 0.5689 - val_accuracy: 0.8162\n",
      "Epoch 6/30\n",
      "55000/55000 [==============================] - 3s 58us/sample - loss: 0.5619 - accuracy: 0.8143 - val_loss: 0.5417 - val_accuracy: 0.8222\n",
      "Epoch 7/30\n",
      "55000/55000 [==============================] - 3s 59us/sample - loss: 0.5392 - accuracy: 0.8205 - val_loss: 0.5213 - val_accuracy: 0.8300\n",
      "Epoch 8/30\n",
      "55000/55000 [==============================] - 3s 58us/sample - loss: 0.5215 - accuracy: 0.8257 - val_loss: 0.5075 - val_accuracy: 0.8352\n",
      "Epoch 9/30\n",
      "55000/55000 [==============================] - 3s 59us/sample - loss: 0.5071 - accuracy: 0.8287 - val_loss: 0.4917 - val_accuracy: 0.8386\n",
      "Epoch 10/30\n",
      "55000/55000 [==============================] - 3s 60us/sample - loss: 0.4946 - accuracy: 0.8322 - val_loss: 0.4839 - val_accuracy: 0.8376\n",
      "Epoch 11/30\n",
      "55000/55000 [==============================] - 3s 59us/sample - loss: 0.4843 - accuracy: 0.8347 - val_loss: 0.4719 - val_accuracy: 0.8434\n",
      "Epoch 12/30\n",
      "55000/55000 [==============================] - 3s 59us/sample - loss: 0.4755 - accuracy: 0.8376 - val_loss: 0.4646 - val_accuracy: 0.8466\n",
      "Epoch 13/30\n",
      "55000/55000 [==============================] - 3s 59us/sample - loss: 0.4672 - accuracy: 0.8387 - val_loss: 0.4572 - val_accuracy: 0.8490\n",
      "Epoch 14/30\n",
      "55000/55000 [==============================] - 3s 59us/sample - loss: 0.4601 - accuracy: 0.8419 - val_loss: 0.4523 - val_accuracy: 0.8508\n",
      "Epoch 15/30\n",
      "55000/55000 [==============================] - 3s 59us/sample - loss: 0.4540 - accuracy: 0.8426 - val_loss: 0.4442 - val_accuracy: 0.8538\n",
      "Epoch 16/30\n",
      "55000/55000 [==============================] - 3s 58us/sample - loss: 0.4482 - accuracy: 0.8450 - val_loss: 0.4409 - val_accuracy: 0.8528\n",
      "Epoch 17/30\n",
      "55000/55000 [==============================] - 3s 59us/sample - loss: 0.4429 - accuracy: 0.8466 - val_loss: 0.4370 - val_accuracy: 0.8544\n",
      "Epoch 18/30\n",
      "55000/55000 [==============================] - 3s 58us/sample - loss: 0.4379 - accuracy: 0.8473 - val_loss: 0.4309 - val_accuracy: 0.8568\n",
      "Epoch 19/30\n",
      "55000/55000 [==============================] - 3s 59us/sample - loss: 0.4333 - accuracy: 0.8499 - val_loss: 0.4300 - val_accuracy: 0.8548\n",
      "Epoch 20/30\n",
      "55000/55000 [==============================] - 3s 59us/sample - loss: 0.4290 - accuracy: 0.8510 - val_loss: 0.4251 - val_accuracy: 0.8570\n",
      "Epoch 21/30\n",
      "55000/55000 [==============================] - 3s 59us/sample - loss: 0.4252 - accuracy: 0.8516 - val_loss: 0.4218 - val_accuracy: 0.8560\n",
      "Epoch 22/30\n",
      "55000/55000 [==============================] - 3s 59us/sample - loss: 0.4209 - accuracy: 0.8537 - val_loss: 0.4220 - val_accuracy: 0.8592\n",
      "Epoch 23/30\n",
      "55000/55000 [==============================] - 3s 61us/sample - loss: 0.4175 - accuracy: 0.8544 - val_loss: 0.4149 - val_accuracy: 0.8596\n",
      "Epoch 24/30\n",
      "55000/55000 [==============================] - 3s 59us/sample - loss: 0.4144 - accuracy: 0.8548 - val_loss: 0.4111 - val_accuracy: 0.8606\n",
      "Epoch 25/30\n",
      "55000/55000 [==============================] - 3s 60us/sample - loss: 0.4112 - accuracy: 0.8572 - val_loss: 0.4104 - val_accuracy: 0.8580\n",
      "Epoch 26/30\n",
      "55000/55000 [==============================] - 3s 59us/sample - loss: 0.4083 - accuracy: 0.8575 - val_loss: 0.4098 - val_accuracy: 0.8620\n",
      "Epoch 27/30\n",
      "55000/55000 [==============================] - 3s 59us/sample - loss: 0.4049 - accuracy: 0.8589 - val_loss: 0.4045 - val_accuracy: 0.8634\n",
      "Epoch 28/30\n",
      "55000/55000 [==============================] - 3s 61us/sample - loss: 0.4023 - accuracy: 0.8593 - val_loss: 0.4031 - val_accuracy: 0.8646\n",
      "Epoch 29/30\n",
      "55000/55000 [==============================] - 3s 60us/sample - loss: 0.3997 - accuracy: 0.8606 - val_loss: 0.4011 - val_accuracy: 0.8620\n",
      "Epoch 30/30\n",
      "55000/55000 [==============================] - 3s 59us/sample - loss: 0.3970 - accuracy: 0.8611 - val_loss: 0.3997 - val_accuracy: 0.8604\n"
     ]
    }
   ],
   "source": [
    "hist=model.fit(X_train,y_train,epochs=30,validation_data=(X_valid,y_valid))"
   ]
  },
  {
   "cell_type": "code",
   "execution_count": 37,
   "metadata": {},
   "outputs": [],
   "source": [
    "np.random.seed(42)\n",
    "tf.random.set_seed(42)"
   ]
  },
  {
   "cell_type": "code",
   "execution_count": 38,
   "metadata": {},
   "outputs": [],
   "source": [
    "model=keras.models.Sequential()\n",
    "model.add(keras.layers.Flatten(input_shape=[28,28]))\n",
    "model.add(keras.layers.Dense(300,activation='selu',kernel_initializer='lecun_normal'))\n",
    "for layer in range(99):\n",
    "    model.add(keras.layers.Dense(100,activation='selu',\n",
    "                                kernel_initializer='lecun_normal'))\n",
    "model.add(keras.layers.Dense(10,activation='softmax'))"
   ]
  },
  {
   "cell_type": "code",
   "execution_count": 41,
   "metadata": {},
   "outputs": [],
   "source": [
    "model.compile(loss='sparse_categorical_crossentropy',\n",
    "             optimizer=keras.optimizers.SGD(lr=1e-3),\n",
    "             metrics=['accuracy'])"
   ]
  },
  {
   "cell_type": "code",
   "execution_count": 46,
   "metadata": {},
   "outputs": [],
   "source": [
    "pixel_means=X_train.mean(axis=0,keepdims=True)\n",
    "pixel_stds=X_train.std(axis=0,keepdims=True)"
   ]
  },
  {
   "cell_type": "code",
   "execution_count": 47,
   "metadata": {},
   "outputs": [],
   "source": [
    "#스탠다드 스케일러 하는 코드를 직접 함\n",
    "X_train_scaled=(X_train-pixel_means)/pixel_stds\n",
    "\n",
    "X_valid_scaled=(X_valid-pixel_means)/pixel_stds\n",
    "\n",
    "X_test_scaled=(X_test-pixel_means)/pixel_stds"
   ]
  },
  {
   "cell_type": "code",
   "execution_count": 50,
   "metadata": {},
   "outputs": [
    {
     "name": "stdout",
     "output_type": "stream",
     "text": [
      "Train on 55000 samples, validate on 5000 samples\n",
      "Epoch 1/5\n",
      "55000/55000 [==============================] - 26s 469us/sample - loss: 1.1175 - accuracy: 0.5811 - val_loss: 1.3723 - val_accuracy: 0.4400\n",
      "Epoch 2/5\n",
      "55000/55000 [==============================] - 23s 412us/sample - loss: 0.6714 - accuracy: 0.7576 - val_loss: 1.4100 - val_accuracy: 0.4672\n",
      "Epoch 3/5\n",
      "55000/55000 [==============================] - 23s 415us/sample - loss: 0.5825 - accuracy: 0.7902 - val_loss: 1.2910 - val_accuracy: 0.5464\n",
      "Epoch 4/5\n",
      "55000/55000 [==============================] - 23s 418us/sample - loss: 0.5300 - accuracy: 0.8083 - val_loss: 1.3909 - val_accuracy: 0.5552\n",
      "Epoch 5/5\n",
      "55000/55000 [==============================] - 23s 421us/sample - loss: 0.4906 - accuracy: 0.8278 - val_loss: 1.3958 - val_accuracy: 0.5058\n"
     ]
    }
   ],
   "source": [
    "hist=model.fit(X_train_scaled,y_train,epochs=5,validation_data=(X_valid,y_valid))\n",
    "#loss: 0.4906 - accuracy: 0.8278 - val_loss: 1.3958 - val_accuracy: 0.5058"
   ]
  },
  {
   "cell_type": "code",
   "execution_count": 51,
   "metadata": {},
   "outputs": [],
   "source": [
    "#relu와 hnormal로바꾸어서 해보자!np.random.seed(42)\n",
    "tf.random.set_seed(42)\n",
    "\n",
    "model=keras.models.Sequential()\n",
    "model.add(keras.layers.Flatten(input_shape=[28,28]))\n",
    "model.add(keras.layers.Dense(300,activation='relu',kernel_initializer='he_normal'))\n",
    "for layer in range(99):\n",
    "    model.add(keras.layers.Dense(100,activation='relu',\n",
    "                                kernel_initializer='he_normal'))\n",
    "model.add(keras.layers.Dense(10,activation='softmax'))\n",
    "\n",
    "model.compile(loss='sparse_categorical_crossentropy',\n",
    "             optimizer=keras.optimizers.SGD(lr=1e-3),\n",
    "             metrics=['accuracy'])"
   ]
  },
  {
   "cell_type": "code",
   "execution_count": 52,
   "metadata": {},
   "outputs": [
    {
     "name": "stdout",
     "output_type": "stream",
     "text": [
      "Train on 55000 samples, validate on 5000 samples\n",
      "Epoch 1/5\n",
      "55000/55000 [==============================] - 26s 465us/sample - loss: 1.7844 - accuracy: 0.2718 - val_loss: 3.3336 - val_accuracy: 0.1198\n",
      "Epoch 2/5\n",
      "55000/55000 [==============================] - 23s 409us/sample - loss: 1.1328 - accuracy: 0.5226 - val_loss: 2.6719 - val_accuracy: 0.2870\n",
      "Epoch 3/5\n",
      "55000/55000 [==============================] - 22s 406us/sample - loss: 0.8902 - accuracy: 0.6416 - val_loss: 3.0621 - val_accuracy: 0.2150\n",
      "Epoch 4/5\n",
      "55000/55000 [==============================] - 22s 408us/sample - loss: 0.8495 - accuracy: 0.6566 - val_loss: 3.6180 - val_accuracy: 0.1868\n",
      "Epoch 5/5\n",
      "55000/55000 [==============================] - 22s 407us/sample - loss: 0.7342 - accuracy: 0.7020 - val_loss: 3.5191 - val_accuracy: 0.2152\n"
     ]
    }
   ],
   "source": [
    "hist=model.fit(X_train_scaled,y_train,epochs=5,validation_data=(X_valid,y_valid))\n",
    "#loss: 0.7342 - accuracy: 0.7020 - val_loss: 3.5191 - val_accuracy: 0.2152"
   ]
  },
  {
   "cell_type": "code",
   "execution_count": null,
   "metadata": {},
   "outputs": [],
   "source": []
  }
 ],
 "metadata": {
  "kernelspec": {
   "display_name": "Python 3",
   "language": "python",
   "name": "python3"
  },
  "language_info": {
   "codemirror_mode": {
    "name": "ipython",
    "version": 3
   },
   "file_extension": ".py",
   "mimetype": "text/x-python",
   "name": "python",
   "nbconvert_exporter": "python",
   "pygments_lexer": "ipython3",
   "version": "3.7.0"
  }
 },
 "nbformat": 4,
 "nbformat_minor": 2
}
